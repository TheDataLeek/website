{
 "cells": [
  {
   "cell_type": "code",
   "execution_count": 11,
   "metadata": {
    "collapsed": false
   },
   "outputs": [
    {
     "name": "stdout",
     "output_type": "stream",
     "text": [
      "Populating the interactive namespace from numpy and matplotlib\n"
     ]
    }
   ],
   "source": [
    "import numpy as np\n",
    "import matplotlib.pyplot as plt\n",
    "\n",
    "from IPython.display import Image\n",
    "\n",
    "%pylab inline\n",
    "\n",
    "%pylab.rcParams['figure.figsize'] = (10, 6)\n",
    "\n",
    "%load_ext autoreload\n",
    "%autoreload 2"
   ]
  },
  {
   "cell_type": "markdown",
   "metadata": {},
   "source": [
    "1. [Fundamentals](#Fundamentals)\n",
    "2. [Solving Equations](#Solving-Equations)\n",
    "3. [Systems of Equations](#Systems-of-Equations)\n",
    "4. [Interpolation](#Interpolation)\n",
    "5. [Least Squares](#Least-Squares)\n",
    "6. [Numerical Differentiation and Integration](#Numerical-Differentiation-and-Integration)\n",
    "7. [Ordinary Differential Equations](#Ordinary-Differential-Equations)"
   ]
  },
  {
   "cell_type": "markdown",
   "metadata": {},
   "source": [
    "# Fundamentals"
   ]
  },
  {
   "cell_type": "markdown",
   "metadata": {},
   "source": [
    "## Binary\n",
    "\n",
    "Represented by ones and zeros.\n",
    "\n",
    "$$\n",
    "\\begin{array}{|c|c|c|c|c|c|c|c|c|}\n",
    "\\hline\n",
    "\\cdots & 1 & 0 & 1 & 0 & 0 & 1 & 1 & 0\\\\\n",
    "\\hline\n",
    "\\cdots & 128 & 64 & 32 & 16 & 8 & 4 & 2 & 1\\\\\n",
    "\\hline\n",
    "\\end{array}\n",
    "$$\n",
    "\n",
    "Just sum up each place that has a one digit. (For example, the above number is 166)"
   ]
  },
  {
   "cell_type": "markdown",
   "metadata": {},
   "source": [
    "##Floating Point\n",
    "\n",
    "The value of a number is computed as\n",
    "\n",
    "$$\n",
    "\\text{sign} \\cdot 2^\\text{exponent} \\cdot \\text{mantissa}\n",
    "$$\n",
    "\n",
    "\"The sign is stored in bit 32. The exponent can be computed from bits 24-31 by subtracting 127. The mantissa (also known as significand or fraction) is stored in bits 1-23. An invisible leading bit (i.e. it is not actually stored) with value 1.0 is placed in front, then bit 23 has a value of 1/2, bit 22 has value 1/4 etc. As a result, the mantissa has a value between 1.0 and 2. If the exponent reaches -127 (binary 00000000), the leading 1 is no longer used to enable gradual underflow.\" -http://www.h-schmidt.net/FloatConverter/IEEE754.html"
   ]
  },
  {
   "cell_type": "markdown",
   "metadata": {},
   "source": [
    "# Solving Equations"
   ]
  },
  {
   "cell_type": "markdown",
   "metadata": {},
   "source": [
    "##Bisection Method"
   ]
  },
  {
   "cell_type": "code",
   "execution_count": 12,
   "metadata": {
    "collapsed": false
   },
   "outputs": [],
   "source": [
    "def bisectionmethod(f, a, b, steps, precision=1e-4):\n",
    "    m = np.zeros((steps, 2))\n",
    "    m[0, 0] = a\n",
    "    m[0, 1] = bcd\n",
    "    for i in range(1, steps):\n",
    "        c = (m[i - 1, 0] + m[i - 1, 1]) / 2\n",
    "        if f(c) == 0:\n",
    "            return c, m\n",
    "        elif np.abs(f(a) - f(b)) <= precision:\n",
    "            return c, m\n",
    "        elif f(a) * f(c) < 0:\n",
    "            m[i, 0] = m[i - 1, 0]\n",
    "            m[i, 1] = c\n",
    "        else:\n",
    "            m[i, 0] = c\n",
    "            m[i, 1] = m[i - 1, 1]\n",
    "    return (m[-1, 0] + m[-1, 1]) / 2, m"
   ]
  },
  {
   "cell_type": "markdown",
   "metadata": {},
   "source": [
    "##Fixed Point Iteration\n",
    "\n",
    "A number, $x^*$, is called a fixed point if $g(x^*) = x^*$. If we're lucky, some functions converge to a certain point."
   ]
  },
  {
   "cell_type": "code",
   "execution_count": 13,
   "metadata": {
    "collapsed": false
   },
   "outputs": [],
   "source": [
    "def fixedpointmethod(f, x0, steps):\n",
    "    m = np.zeros(steps)\n",
    "    m[0] = x0\n",
    "    for i in range(1, steps):\n",
    "        m[i] = f(m[i - 1])\n",
    "        if np.abs(m[i] - m[i - 1]) < 0.0001:\n",
    "            break\n",
    "    return m[-1], m"
   ]
  },
  {
   "cell_type": "markdown",
   "metadata": {},
   "source": [
    "##Newton's Method"
   ]
  },
  {
   "cell_type": "code",
   "execution_count": 14,
   "metadata": {
    "collapsed": false
   },
   "outputs": [],
   "source": [
    "def newtonsmethod(f, x0, steps, precision=1e-4):\n",
    "    m = np.zeros(steps)\n",
    "    m[0] = x0\n",
    "    for i in range(1, steps):\n",
    "        m[i] = m[i - 1] - (f(m[i - 1]) / sm.derivative(f, m[i - 1]))\n",
    "        if np.abs(f(m[i])) < precision:\n",
    "            break\n",
    "    return m[i], len(np.nonzero(m)[0])"
   ]
  },
  {
   "cell_type": "markdown",
   "metadata": {},
   "source": [
    "##Secant Method"
   ]
  },
  {
   "cell_type": "code",
   "execution_count": 15,
   "metadata": {
    "collapsed": false
   },
   "outputs": [],
   "source": [
    "def secantmethod(f, x0, x1, steps):\n",
    "    m = np.zeros((steps, 2))\n",
    "    m[0, 0] = x0\n",
    "    m[0, 1] = x1\n",
    "    for i in range(1, steps):\n",
    "        c = (m[i - 1, 1] - f(m[i - 1, 1]) *\n",
    "             ((m[i - 1, 1] - m[i - 1, 0]) /\n",
    "              (f(m[i - 1, 1]) - f(m[i - 1, 0]))))\n",
    "        m[i, 0] = m[i - 1, 1]\n",
    "        m[i, 1] = c\n",
    "        \n",
    "        if np.abs(m[i, 1] - m[i, 0]) < 0.001:\n",
    "            break\n",
    "    return c, m"
   ]
  },
  {
   "cell_type": "markdown",
   "metadata": {},
   "source": [
    "# Systems of Equations"
   ]
  },
  {
   "cell_type": "markdown",
   "metadata": {},
   "source": [
    "##Properties and Definitions"
   ]
  },
  {
   "cell_type": "markdown",
   "metadata": {},
   "source": [
    "A system of equations can be defined by a matrix, usually denoted $Ax = b$.\n",
    "\n",
    "A singular matrix is one where no solution exists. For $A$ which a unique solution exists the following statements are equivalent.\n",
    "\n",
    "* $A$ is non-singular\n",
    "* $A^{-1}$ exists\n",
    "* $|A| \\neq 0$\n",
    "* $rank (A) = n$\n",
    "* $\\forall \\vec{v} \\neq 0, A \\vec{v} \\neq 0$.\n",
    "\n",
    "Eigenvalues of some matrix $A$ are defined as the roots of the characteristic polynomial:\n",
    "\n",
    "$$\n",
    "| A - I \\lambda | = 0\n",
    "$$\n",
    "\n",
    "A matrix is said to be ill-conditioned if the value $\\lVert A \\rVert \\lVert A^{-1} \\rVert$ is large."
   ]
  },
  {
   "cell_type": "markdown",
   "metadata": {},
   "source": [
    "##Gaussian Elimination"
   ]
  },
  {
   "cell_type": "markdown",
   "metadata": {},
   "source": [
    "We have three elementary operations that we can use to solve systems of equations in matrix form with Naive Gaussian Elimination.\n",
    "\n",
    "* Swap one equation for another.\n",
    "* Add or subtract a multiple of one equation from another\n",
    "* Multiply an equation by a nonzero constant"
   ]
  },
  {
   "cell_type": "markdown",
   "metadata": {},
   "source": [
    "##LU Factorization"
   ]
  },
  {
   "cell_type": "markdown",
   "metadata": {},
   "source": [
    "Any system of equations with coefficient matrix $A$ and solution vector $b$ can be written in the form $Ax = b$. $LU$ Factorization strives to reduce this coefficient matrix into two matrices, a lower and upper triangular matrix (hence the $LU$).\n",
    "\n",
    "####No Pivoting\n",
    "We use our elementary operations here, and each constant we use is \"saved\" in an identity matrix which becomes our lower triangular matrix at the end.\n",
    "\n",
    "####Partial Pivoting\n",
    "\n",
    "In this method we compare numbers before carrying out an elimination step. In the case of the first pivot, the largest entry of the first column is located and swapped for the first row. For the next pivot, the highest second column row is used for the second pivot.\n",
    "\n",
    "We can use this to get the decomposition $PA=LU$, where $P$ is some permutation matrix that defines the row swapping that occurs.\n",
    "\n",
    "We use the same system here, save that we can keep the multipliers in the reduced matrix and then split at the end."
   ]
  },
  {
   "cell_type": "markdown",
   "metadata": {},
   "source": [
    "# Interpolation"
   ]
  },
  {
   "cell_type": "markdown",
   "metadata": {},
   "source": [
    "Let's establish a sample dataset to show the differences in these interpolation methods."
   ]
  },
  {
   "cell_type": "code",
   "execution_count": 16,
   "metadata": {
    "collapsed": false
   },
   "outputs": [
    {
     "data": {
      "image/png": "[encoded data removed]",
      "text/plain": [
       "<matplotlib.figure.Figure at 0x7f7c6d0c4c50>"
      ]
     },
     "metadata": {},
     "output_type": "display_data"
    }
   ],
   "source": [
    "data = np.array([np.arange(0, 10), np.arange(0, 10)**2 * np.sin(np.arange(0, 10))])\n",
    "plt.figure()\n",
    "plt.scatter(data[0], data[1])\n",
    "plt.show()"
   ]
  },
  {
   "cell_type": "markdown",
   "metadata": {},
   "source": [
    "## Linear Interpolation"
   ]
  },
  {
   "cell_type": "markdown",
   "metadata": {},
   "source": [
    "Between two points is simply defined as:\n",
    "\n",
    "$$\n",
    "y_0 + \\frac{y_0 - y_1}{x_0 - x_1} (x - x_0)\n",
    "$$"
   ]
  },
  {
   "cell_type": "code",
   "execution_count": 17,
   "metadata": {
    "collapsed": false
   },
   "outputs": [
    {
     "data": {
      "image/png": "[encoded data removed]",
      "text/plain": [
       "<matplotlib.figure.Figure at 0x7f7c6d0a7278>"
      ]
     },
     "metadata": {},
     "output_type": "display_data"
    }
   ],
   "source": [
    "def linear_interpolation(point1, point2):\n",
    "    \"\"\"\n",
    "    Interpolates a line between two given points.\n",
    "    \n",
    "    :param point[12]: tuple(float, float)\n",
    "        Coordinates for points\n",
    "    :returns: function\n",
    "        Equation for interpolated line\n",
    "    \"\"\"\n",
    "    return lambda x: (point1[1] +\n",
    "            ((point1[1] - point2[1]) /\n",
    "             (point1[0] - point2[0])) *\n",
    "            (x - point1[0]))\n",
    "\n",
    "def linearpoint(point1, point2, x):\n",
    "    return linear_interpolation(point1, point2)(x)\n",
    "\n",
    "plt.figure()\n",
    "plt.scatter(data[0], data[1])\n",
    "for i in range(len(data[0]) - 1):\n",
    "    plt.plot(data[0, i:i + 2],\n",
    "             linear_interpolation((data[0, i], data[1, i]),\n",
    "                                  (data[0, i + 1], data[1, i + 1]))(data[0, i:i + 2]))\n",
    "plt.show()"
   ]
  },
  {
   "cell_type": "markdown",
   "metadata": {},
   "source": [
    "##Lagrangian Interpolation"
   ]
  },
  {
   "cell_type": "markdown",
   "metadata": {},
   "source": [
    "Given a set of $k + 1$ points, $(x_0, y_0), \\cdots, (x_k, y_k)$, with distinct $x_i$, the lagrangian polynomial is the linear combination\n",
    "\n",
    "$$\n",
    "L(x) = \\sum_{j=0}^k y_j l_j(x)\n",
    "$$\n",
    "\n",
    "Where\n",
    "\n",
    "$$\n",
    "l_j(x) = \\prod_{0\\le m \\le k, m \\neq j} \\frac{x - x_m}{x_j - x_m}\n",
    "$$\n",
    "\n",
    "See http://en.wikipedia.org/wiki/Lagrange_polynomial"
   ]
  },
  {
   "cell_type": "code",
   "execution_count": 18,
   "metadata": {
    "collapsed": false
   },
   "outputs": [
    {
     "data": {
      "image/png": "[encoded data removed]",
      "text/plain": [
       "<matplotlib.figure.Figure at 0x7f7c6d085400>"
      ]
     },
     "metadata": {},
     "output_type": "display_data"
    }
   ],
   "source": [
    "def lagrangian_polynomial(points, xarr):\n",
    "    \"\"\"\n",
    "    Lagrangian Polynomial at a set of points\n",
    "    \"\"\"\n",
    "    if type(xarr) in [int, float]:\n",
    "        return lagrangian_point(points, xarr)\n",
    "    else:\n",
    "        return np.array([lagrangian_point(points, x) for x in xarr])\n",
    "\n",
    "def lagrangian_point(points, x):\n",
    "    \"\"\"\n",
    "    Finds the Langrangian interpolating polynomial\n",
    "    in two dimensions at point x\n",
    "    \n",
    "    A set of k points.\n",
    "    \"\"\"\n",
    "    Lx = []\n",
    "    for j in range(len(points)):\n",
    "        lx = []\n",
    "        for m in range(len(points)):\n",
    "            if m != j:\n",
    "                lx.append(((x - points[m, 0]) /\n",
    "                        (points[j, 0] - points[m, 0])))\n",
    "        Lx.append(points[j, 1] * np.prod(lx))\n",
    "    Lx = np.sum(Lx)\n",
    "    return Lx\n",
    "\n",
    "plt.figure()\n",
    "plt.scatter(data[0], data[1])\n",
    "plt.plot(np.arange(0, 10, 0.1),\n",
    "         lagrangian_polynomial(np.transpose(data), np.arange(0, 10, 0.1)))\n",
    "plt.show()"
   ]
  },
  {
   "cell_type": "markdown",
   "metadata": {},
   "source": [
    "##Newton's Divided Differences"
   ]
  },
  {
   "cell_type": "markdown",
   "metadata": {},
   "source": [
    "For the same set of points, the Newton Interpolating Polynomial is\n",
    "\n",
    "$$\n",
    "N(x) = \\sum_{j = 0}^k a_j n_j(x)\n",
    "$$\n",
    "\n",
    "Where\n",
    "\n",
    "$$\n",
    "n_j(x) = \\prod_{i = 0}^{j - 1} (x - x_i)\n",
    "$$\n",
    "\n",
    "and\n",
    "\n",
    "$$\n",
    "a_j = [y_0, \\ldots, y_j]\n",
    "$$\n",
    "\n",
    "which is the notation for divided differences, defined as\n",
    "\n",
    "$$\n",
    "[y_v, \\ldots, y_{v+j}] = \\frac{[y_{v + 1}, \\ldots, y_{v + j}] - [y_v, \\ldots, y_{v + j - 1}]}{x_{v + j} - x_v}\n",
    "$$\n",
    "\n",
    "See http://en.wikipedia.org/wiki/Newton_polynomial"
   ]
  },
  {
   "cell_type": "code",
   "execution_count": 19,
   "metadata": {
    "collapsed": false
   },
   "outputs": [
    {
     "data": {
      "image/png": "[encoded data removed]",
      "text/plain": [
       "<matplotlib.figure.Figure at 0x7f7c6d016898>"
      ]
     },
     "metadata": {},
     "output_type": "display_data"
    }
   ],
   "source": [
    "def divided_differences(data):\n",
    "    \"\"\" http://mathworld.wolfram.com/DividedDifference.html \"\"\"\n",
    "    if len(data) == 1:\n",
    "        return data[0, 1]\n",
    "    else:\n",
    "        return ((divided_differences(data[:-1]) -\n",
    "                 divided_differences(data[1:])) /\n",
    "                (data[0, 0] - data[-1, 0]))\n",
    "\n",
    "def newtons_differences(points, xarr):\n",
    "    \"\"\"\n",
    "    Lagrangian Polynomial at a set of points\n",
    "    \"\"\"\n",
    "    if type(xarr) in [int, float]:\n",
    "        return newtons_differences_point(points, xarr)\n",
    "    else:\n",
    "        return np.array([newtons_differences_point(points, x)\n",
    "                         for x in xarr])\n",
    "\n",
    "def newtons_differences_point(data, x):\n",
    "    \"\"\"\n",
    "    Newton's divided differences for polynomials\n",
    "    \n",
    "    http://mathworld.wolfram.com/NewtonsDividedDifferenceInterpolationFormula.html\n",
    "    \"\"\"\n",
    "    pin = lambda y, n: np.prod([(y - data[k, 0])\n",
    "                             for k in range(n)])\n",
    "    Nx = data[0, 1]\n",
    "    for i in range(1, len(data)):\n",
    "        Nx += pin(x, i) * divided_differences(data[:i + 1])\n",
    "    return Nx\n",
    "\n",
    "plt.figure()\n",
    "plt.scatter(data[0], data[1])\n",
    "plt.plot(np.arange(0, 10, 0.1),\n",
    "         newtons_differences(np.transpose(data), np.arange(0, 10, 0.1)))\n",
    "plt.show()"
   ]
  },
  {
   "cell_type": "markdown",
   "metadata": {},
   "source": [
    "If you'll note, both Lagrangian interpolation and Newton's divided differences result in the same polynomial."
   ]
  },
  {
   "cell_type": "markdown",
   "metadata": {},
   "source": [
    "##Splines"
   ]
  },
  {
   "cell_type": "markdown",
   "metadata": {},
   "source": [
    "In short, for the natural cubic spline, let us define $\\delta_i = x_{i + 1} - x_i$ and $\\Delta_i = y_{i + 1} - y_i$.\n",
    "\n",
    "We now create the following system of equations.\n",
    "\n",
    "$$\n",
    "\\left[\n",
    "\\begin{array}{cccccc|c}\n",
    "1 & 0 & 0 & & & & 0\\\\\n",
    "\\delta_1 & 2 \\delta_1 + 2\\delta_2 & \\delta_2 & \\ddots & & & 3 \\left( \\frac{\\Delta_2}{\\delta_2} - \\frac{\\Delta_1}{\\delta_1} \\right)\\\\\n",
    "0 & \\delta_2 & 2 \\delta_2 + 2 \\delta_3 & \\delta_3 & & & \\\\\n",
    "& \\ddots & \\ddots & \\ddots & \\ddots & & \\vdots \\\\\n",
    "& & & \\delta_{n - 2} & 2 \\delta_{n - 2} + 2 \\delta_{n - 1} & \\delta_{n - 1} & 3 \\left( \\frac{\\Delta_{n - 1}}{\\delta_{n - 1}} - \\frac{\\Delta_{n - 2}}{\\delta_{n - 2}} \\right)\\\\\n",
    "& & & 0 & 0 & 1 & 0\\\\\n",
    "\\end{array}\n",
    "\\right]\n",
    "$$\n",
    "\n",
    "The natural cubic spline is\n",
    "\n",
    "$$\n",
    "S_i(x) = a_i + b_i(x - x_i) + c_i (x - x_i)^2 + d_i (x - x_i)^3\n",
    "$$\n",
    "\n",
    "On $[x_i, x_{i + 1}]$, for $i = 1, \\ldots, n - 1$ where\n",
    "\n",
    "$$\n",
    "\\begin{aligned}\n",
    "a_i &=& y_i\\\\\n",
    "b_i &=& \\frac{\\Delta_i}{\\delta_i} - \\frac{\\delta_i}{3} (2c_i + c_{i + 1})\\\\\n",
    "c_i &=& \\text{Solutions to above System}\\\\\n",
    "d_i &=& \\frac{c_{i + 1} - c_i}{3 \\delta_i}\n",
    "\\end{aligned}\n",
    "$$"
   ]
  },
  {
   "cell_type": "code",
   "execution_count": 20,
   "metadata": {
    "collapsed": false
   },
   "outputs": [
    {
     "data": {
      "image/png": "[encoded data removed]",
      "text/plain": [
       "<matplotlib.figure.Figure at 0x7f7c6d0535c0>"
      ]
     },
     "metadata": {},
     "output_type": "display_data"
    }
   ],
   "source": [
    "def cubic_natural_spline(data):\n",
    "    \"\"\"\n",
    "    Fits a cubic spline to the points\n",
    "    \"\"\"\n",
    "    a = np.zeros((len(data), len(data)), dtype=int)\n",
    "    b = np.zeros((len(data), 1))\n",
    "    a[0, 0] = 1\n",
    "    a[-1, -1] = 1\n",
    "    xdelta = lambda c: data[c + 1, 0] - data[c, 0]\n",
    "    ydelta = lambda c: data[c + 1, 1] - data[c, 1]\n",
    "    # System of equations\n",
    "    for i in range(1, len(data) - 1):\n",
    "        for j in range(len(data)):\n",
    "            if i - 1 == j:\n",
    "                a[i, j] = xdelta(i - 1)\n",
    "            if i == j:\n",
    "                a[i, j] = (2 * xdelta(i - 1) +\n",
    "                           2 * xdelta(i))\n",
    "            if i + 1 == j:\n",
    "                a[i, j] = xdelta(i)\n",
    "    for i in range(1, len(data) - 1):\n",
    "        b[i, 0] = 3 * ((ydelta(i) / xdelta(i)) -\n",
    "                       (ydelta(i - 1) / xdelta(i - 1)))\n",
    "    # We've already written a matrix solver\n",
    "    sols = np.linalg.solve(a, b)\n",
    "    # Extract splines\n",
    "    # Again, stupid python currying\n",
    "    def gen_spline(a, b, c, d, x):\n",
    "        return lambda y: (a +\n",
    "                       b * (y - x) +\n",
    "                       c * (y - x)**2 +\n",
    "                       d * (y - x)**3)\n",
    "    splines = []\n",
    "    for i in range(len(data) - 1):\n",
    "        d = (sols[i + 1] - sols[i]) / (3 * xdelta(i))\n",
    "        b = (ydelta(i) / xdelta(i)) - ((xdelta(i) / 3) *\n",
    "                                (2 * sols[i] + sols[i + 1]))\n",
    "        splines.append(gen_spline(data[i, 1], b, sols[i], d, data[i, 0]))\n",
    "    return splines\n",
    "\n",
    "plt.figure()\n",
    "plt.scatter(data[0], data[1])\n",
    "lines = cubic_natural_spline(np.transpose(data))\n",
    "for i in range(len(lines)):\n",
    "    x = np.arange(data[0, i], data[0, i + 1], 0.01)\n",
    "    plt.plot(x, lines[i](x))\n",
    "plt.show()"
   ]
  },
  {
   "cell_type": "markdown",
   "metadata": {},
   "source": [
    "##Bezier Curves"
   ]
  },
  {
   "cell_type": "markdown",
   "metadata": {},
   "source": [
    "Cubic Bezier curves can be explicitly defined as\n",
    "\n",
    "$$\n",
    "B(t) = (1 - t)^3 P_0 + 3 (1 - t)^2 t P_1 + 3(1 - t) t^2 P_2 + t^3 P_3\n",
    "$$\n",
    "\n",
    "For $t \\in [0, 1]$, for each set of four points, $P_0, \\ldots, P_3$.\n",
    "\n",
    "See http://en.wikipedia.org/wiki/B%C3%A9zier_curve"
   ]
  },
  {
   "cell_type": "code",
   "execution_count": 21,
   "metadata": {
    "collapsed": false
   },
   "outputs": [
    {
     "data": {
      "image/png": "[encoded data removed]",
      "text/plain": [
       "<matplotlib.figure.Figure at 0x7f7c6d105588>"
      ]
     },
     "metadata": {},
     "output_type": "display_data"
    }
   ],
   "source": [
    "def bezier(points):\n",
    "    \"\"\"\n",
    "    Draw's bezier polynomials.\n",
    "    \"\"\"\n",
    "    if len(points) % 3 != 1:\n",
    "        print('Please submit 1+3n points.')\n",
    "        return\n",
    "    \n",
    "    # Have to curry because of python scoping\n",
    "    def createcurve(p0, p1, p2, p3):\n",
    "        return lambda tarr: np.array([((1 - t)**3 * p0 +\n",
    "                           3 * (1 - t)**2 * t * p1 +\n",
    "                           3 * (1 - t) * t**2 * p2 +\n",
    "                           t**3 * p3) for t in tarr])\n",
    "    \n",
    "    curves = []\n",
    "    for i in range(int(len(points) / 4) + 1):\n",
    "        curves.append(createcurve(points[3 * i],\n",
    "                                  points[3 * i + 1],\n",
    "                                  points[3 * i + 2],\n",
    "                                  points[3 * i + 3]))\n",
    "        if len(points) == 4:\n",
    "            break\n",
    "    return curves\n",
    "\n",
    "plt.figure(figsize=(6, 6))\n",
    "curves = bezier(np.transpose(data))\n",
    "plt.scatter(data[0], data[1])\n",
    "for i in range(int(len(data[0]) / 4) + 1):\n",
    "    plt.plot(curves[i](np.arange(0, 1, 0.01))[:, 0],\n",
    "             curves[i](np.arange(0, 1, 0.01))[:, 1])\n",
    "plt.show()"
   ]
  },
  {
   "cell_type": "markdown",
   "metadata": {},
   "source": [
    "##3D Interpolation"
   ]
  },
  {
   "cell_type": "markdown",
   "metadata": {},
   "source": []
  },
  {
   "cell_type": "markdown",
   "metadata": {},
   "source": [
    "With gridded data we can simply interpolate between the points. For non gridded data things get harder.\n",
    "\n",
    "A great strategy is nearest neighbor interpolation:\n",
    "\n",
    "$$\n",
    "z = \\begin{cases} \\frac{\\sum_{i = 1}^{N - 1} \\frac{z_i}{{\\left[ {(x_i - x)}^2 + {(y_i - y)}^2 \\right]}^{p / 2}}}{\\sum_{i = 1}^{N - 1} \\frac{1}{{\\left[ {(x_i - x)}^2 + {(y_i - y)}^2 \\right]}^{p / 2}}} & \\quad x_i \\neq x \\text{ or } y_i \\neq y\\\\ z_i & \\quad x_i = x \\text{ and } y_i = y \\end{cases}\n",
    "$$"
   ]
  },
  {
   "cell_type": "markdown",
   "metadata": {},
   "source": [
    "# Least Squares"
   ]
  },
  {
   "cell_type": "markdown",
   "metadata": {},
   "source": [
    "If we have some unsolvable system of equations we call it inconsistent. We can find a solution that is \"close\" called the least squares solution.\n",
    "\n",
    "We can find the normal equation.\n",
    "\n",
    "$$\n",
    "A^T A \\bar{x} = A^T b\n",
    "$$\n",
    "\n",
    "Solving this minimizes the residual $r = b - AX$.\n",
    "\n",
    "We can measure our error, where the root mean squared error is defined as\n",
    "\n",
    "$$\n",
    "RSME = \\sqrt{\\frac{SE}{m}} = \\sqrt{\\frac{r_1^2 + \\cdots + r^2_m}{m}}\n",
    "$$\n",
    "\n",
    "We can apply this concept and fit models to data.\n",
    "\n",
    "**Given a set of $m$ points:**\n",
    "\n",
    "1. Choose a parameterized model.\n",
    "2. Force the model to fit the data.\n",
    "3. Solve the normal equations: $A^TAx = A^Tb$. The values, $c_i$, that correspond with the solution are the coefficients for the chosen model."
   ]
  },
  {
   "cell_type": "markdown",
   "metadata": {},
   "source": [
    "We can choose any model, just so long as it can be linearized. For example,\n",
    "\n",
    "$$\n",
    "\\begin{aligned}\n",
    "y = c_1 + c_2 t &\\Rightarrow& \\left[\\begin{array}{cc}\n",
    "1 & t_1\\\\\n",
    "1 & t_2\\\\\n",
    "\\vdots & \\vdots\n",
    "\\end{array}\\right] \\left[\\begin{array}{c} c_1 \\\\ c_2 \\end{array} \\right] =\n",
    "\\left[ \\begin{array}{c} y_1 \\\\ y_2 \\\\ \\vdots\\end{array} \\right]\\\\\n",
    "y = c_1 + c_2 t + c_3 t^2 &\\Rightarrow& \\left[\\begin{array}{ccc}\n",
    "1 & t_1 & t_1^2\\\\\n",
    "1 & t_2 & t_2^2\\\\\n",
    "\\vdots & \\vdots & \\vdots\n",
    "\\end{array}\\right] \\left[\\begin{array}{c} c_1 \\\\ c_2 \\\\ c_3 \\end{array} \\right] =\n",
    "\\left[ \\begin{array}{c} y_1 \\\\ y_2 \\\\ \\vdots\\end{array} \\right]\\\\\\\\\n",
    "\\end{aligned}\n",
    "$$"
   ]
  },
  {
   "cell_type": "code",
   "execution_count": 22,
   "metadata": {
    "collapsed": false
   },
   "outputs": [
    {
     "data": {
      "image/png": "[encoded data removed]",
      "text/plain": [
       "<matplotlib.figure.Figure at 0x7f7c6d0907b8>"
      ]
     },
     "metadata": {},
     "output_type": "display_data"
    }
   ],
   "source": [
    "plt.figure()\n",
    "plt.scatter(data[0], data[1])\n",
    "coeff1 = np.polyfit(data[0], data[1], 1)\n",
    "coeff2 = np.polyfit(data[0], data[1], 2)\n",
    "line = lambda x: coeff1[0] * x    + coeff1[1]\n",
    "para = lambda x: coeff2[0] * x**2 + coeff2[1] * x + coeff2[2]\n",
    "plt.plot(np.arange(0, 10, 0.01), line(np.arange(0, 10, 0.01)))\n",
    "plt.plot(np.arange(0, 10, 0.01), para(np.arange(0, 10, 0.01)))\n",
    "plt.show()"
   ]
  },
  {
   "cell_type": "markdown",
   "metadata": {},
   "source": [
    "##QR Factorization"
   ]
  },
  {
   "cell_type": "markdown",
   "metadata": {},
   "source": [
    "We can do something better than the normal equations for least squares. The Gram-Schmidt process orthagonalizes a set of vectors by using the vector's length to get a unit vector.\n",
    "\n",
    "### Reduced QR Factorization\n",
    "\n",
    "Reduced QR factorization is defined as\n",
    "\n",
    "$$\n",
    "(A_1 \\cdots A_n) = (q_1 \\cdots q_n) \\left[\\begin{array}{cccc}\n",
    "r_{11} & r_{12} & \\cdots & r_{1n}\\\\\n",
    "& r_{22} & \\cdots & r_{2n}\\\\\n",
    "& & \\ddots & \\vdots\\\\\n",
    "& & & r_{nn}\n",
    "\\end{array}\\right]\n",
    "$$\n",
    "\n",
    "Defining $y_j$ as\n",
    "\n",
    "$$\n",
    "y_j = A_j - q_1 (q_1^T A_j) - q_2(q_2^T A_j) - \\cdots - q_{j - 1} ( q_{j - 1}^TA_j)\n",
    "$$\n",
    "\n",
    "Where $q_j$ is some vector defined as\n",
    "\n",
    "$$\n",
    "q_j = \\frac{y_j}{{\\lVert y_j \\rVert}_2}\n",
    "$$\n",
    "\n",
    "and $r_{ij}$ is some constant defined as\n",
    "\n",
    "$$\n",
    "r_{jj} = {\\lVert y_j \\rVert}_2 \\qquad r_{ij} = q_i^T A_j\n",
    "$$\n",
    "\n",
    "Note, a square matrix $Q$ is orthogonal if $Q^T = Q^{-1}$."
   ]
  },
  {
   "cell_type": "code",
   "execution_count": 23,
   "metadata": {
    "collapsed": false
   },
   "outputs": [
    {
     "name": "stdout",
     "output_type": "stream",
     "text": [
      "[[ 0.33333333 -0.74278135]\n",
      " [ 0.66666667  0.55708601]\n",
      " [ 0.66666667  0.37139068]]\n",
      "[[ 3.          0.        ]\n",
      " [ 0.          5.38516481]]\n",
      "[[ 1. -4.]\n",
      " [ 2.  3.]\n",
      " [ 2.  2.]]\n"
     ]
    }
   ],
   "source": [
    "def reduced_qr(a):\n",
    "    m, n = a.shape\n",
    "    q = np.zeros((m, n))\n",
    "    r = np.zeros((n, n))\n",
    "    for j in range(n):\n",
    "        y = a[:, j]\n",
    "        for i in range(j - 1):\n",
    "            r[i, j] = np.dot(np.transpose(q[:, i]), a[:, j])\n",
    "            y = y - r[i, j] * q[:, i]\n",
    "        r[j, j] = np.sqrt(np.sum(y**2))\n",
    "        q[:, j] = y / r[j, j]\n",
    "    return q, r\n",
    "q, r = reduced_qr(np.array([[1, -4], [2, 3], [2, 2]]))\n",
    "print(q)\n",
    "print(r)\n",
    "print(np.dot(q, r))"
   ]
  },
  {
   "cell_type": "markdown",
   "metadata": {},
   "source": [
    "###Full QR Factorization\n",
    "\n",
    "Full factorization is defined as $A = QR$ where $Q$ is an orthogonal square matrix and $R$ is an upper triangular matrix the same size as $A$. Therefore, if $A$ is not square, a third arbitrary column that is linearly independent of the first two columns may be used.\n",
    "\n",
    "###Least Squares by QR Factorization\n",
    "\n",
    "Given some $m \\times m$ inconsistent system $Ax = b$, find the full $QR$ factorization and set $\\hat{R} = $ upper $n \\times n$ submatrix of $R$ and $\\hat{d} =$ upper $n$ entries of $d = Q^T b$.\n",
    "\n",
    "Solve $\\hat{R} \\bar{x} = \\hat{d}$ for the least squares solution $\\bar{x}$."
   ]
  },
  {
   "cell_type": "markdown",
   "metadata": {},
   "source": [
    "###Gram-Schmidt Process\n",
    "\n",
    "A unit vector is defined as \n",
    "\n",
    "$$\n",
    "\\frac{A}{\\lVert A \\rVert}\n",
    "$$\n",
    "\n",
    "The projection of vector $\\vec{v}$ onto vector $\\vec{u}$ is defined as\n",
    "\n",
    "$$\n",
    "proj_{\\vec{u}} (\\vec{v}) = \\frac{\\langle \\vec{v}, \\vec{u} \\rangle}{\\langle \\vec{u}, \\vec{u} \\rangle}\\vec{u}\n",
    "$$"
   ]
  },
  {
   "cell_type": "code",
   "execution_count": 24,
   "metadata": {
    "collapsed": false
   },
   "outputs": [
    {
     "data": {
      "image/png": "[encoded data removed]",
      "text/plain": [
       "<IPython.core.display.Image object>"
      ]
     },
     "execution_count": 24,
     "metadata": {},
     "output_type": "execute_result"
    }
   ],
   "source": [
    "Image('350px-Gram–Schmidt_process.svg.png') # From wikipedia"
   ]
  },
  {
   "cell_type": "markdown",
   "metadata": {},
   "source": [
    "##Householder Reflectors"
   ]
  },
  {
   "cell_type": "markdown",
   "metadata": {},
   "source": [
    "A better way to find the $QR$ factorization is using householder reflectors.\n",
    "\n",
    "**Householder Reflectors:** Let $x$ and $w$ be vectors with $\\lVert x \\rVert_2 = \\lVert w \\rVert_2$ and define $v = w - x$. Then $H = I - \\frac{2vv^T}{v^Tv}$ is a symmetric orthogonal matrix and $Hx=w$.\n",
    "\n",
    "We can use these to find the $QR$ decomposition.\n",
    "\n",
    "1. Let $x_1$ be the first column of $A$.\n",
    "2. Let $w_1 = \\pm (\\lVert x_1 \\rVert_2, 0, \\ldots, 0)$ (Choose sign opposite of the first component of $x$).\n",
    "3. Create $H_1 = I - \\frac{2 (w_1 - x_1)(w_1 - x_1)^T}{(w_1 - x_1)^T(w_1 - x_1)}$.\n",
    "4. Create $x_2$ consisting of the $m - 1$ lower entries from column two of $H_1 A$ and $w_2$ in the same way save with the leading entry of $x_2$. Now define this to be $\\hat{H}$, and set $H_2$ to be the $m \\times m$ matrix formed by putting $\\hat{H}_2$ in the lower part of the identity matrix.\n",
    "5. Repeat step 4 as needed."
   ]
  },
  {
   "cell_type": "code",
   "execution_count": 25,
   "metadata": {
    "collapsed": false
   },
   "outputs": [
    {
     "name": "stdout",
     "output_type": "stream",
     "text": [
      "[[ 0.33333333 -0.93333333 -0.13333333]\n",
      " [ 0.66666667  0.33333333 -0.66666667]\n",
      " [ 0.66666667  0.13333333  0.73333333]]\n",
      "[[  3.00000000e+00   2.00000000e+00]\n",
      " [ -2.22044605e-16   5.00000000e+00]\n",
      " [  0.00000000e+00   0.00000000e+00]]\n",
      "[[ 1. -4.]\n",
      " [ 2.  3.]\n",
      " [ 2.  2.]]\n"
     ]
    }
   ],
   "source": [
    "def householder_qr(a):\n",
    "    def fit_to_identity(a):\n",
    "        n = a.shape[1]\n",
    "        i = np.eye(m)\n",
    "        i[m - n:, m - n:] = a\n",
    "        return i\n",
    "    def householder_reflection(v):\n",
    "        r = 2 * v.transpose().dot(v) / v.dot(v.transpose())\n",
    "        v = np.eye(len(v[0])) - r\n",
    "        return v\n",
    "    def matrix_array_prod(arr):\n",
    "        prod = np.eye(len(arr[0][0]))\n",
    "        for i in range(len(arr)):\n",
    "            prod = prod.dot(arr[i])\n",
    "        return prod\n",
    "    m, n = a.shape\n",
    "    h_arr = []\n",
    "    count = 0\n",
    "    prod = a\n",
    "    for i in range(n):\n",
    "        w = np.zeros(m - count)\n",
    "        w[0] = np.sqrt(np.sum(prod[count:, i]**2))\n",
    "        v = np.array([w - prod[count:, i]])\n",
    "        h = fit_to_identity(householder_reflection(v))\n",
    "        h_arr.append(h)\n",
    "        prod = matrix_array_prod(h_arr + [a])\n",
    "        count += 1\n",
    "    r = matrix_array_prod(h_arr[::-1] + [a])\n",
    "    q = matrix_array_prod(h_arr)\n",
    "    return q, r\n",
    "\n",
    "q, r = householder_qr(np.array([[1, -4],\n",
    "                                [2, 3],\n",
    "                                [2, 2]]))\n",
    "print(q)\n",
    "print(r)\n",
    "print(np.dot(q, r))"
   ]
  },
  {
   "cell_type": "markdown",
   "metadata": {},
   "source": [
    "# Numerical Differentiation and Integration"
   ]
  },
  {
   "cell_type": "markdown",
   "metadata": {},
   "source": [
    "##Numerical Differentiation\n",
    "\n",
    "Recall, the definition of a derivative:\n",
    "\n",
    "$$\n",
    "f^\\prime(x) = \\lim_{h \\to 0} \\frac{f(x + h) - f(x)}{h}\n",
    "$$\n",
    "\n",
    "With Taylor's Theorem we obtain the two-point forward-difference formula:\n",
    "\n",
    "$$\n",
    "f^\\prime(x) = \\frac{f(x + h) - f(x)}{h} - \\frac{h}{2} f^{\\prime\\prime}(c)\n",
    "$$\n",
    "\n",
    "Where $x \\le c \\le x + h$. Extending forward, we get the three point formula:\n",
    "\n",
    "$$\n",
    "\\begin{cases}\n",
    "f^\\prime(x) = \\frac{f(x + h) - f(x - h)}{2h} - \\frac{h^2}{6} f^{\\prime\\prime\\prime}(c)\\\\\n",
    "f^{\\prime\\prime}(x) = \\frac{f(x - h) - 2 f(x) + f(x + h)}{h^2} - \\frac{h^2}{12} f^{(4)}(c)\\\\\n",
    "\\end{cases}\n",
    "$$"
   ]
  },
  {
   "cell_type": "code",
   "execution_count": 26,
   "metadata": {
    "collapsed": false
   },
   "outputs": [
    {
     "data": {
      "text/plain": [
       "-0.2506265664160401"
      ]
     },
     "execution_count": 26,
     "metadata": {},
     "output_type": "execute_result"
    }
   ],
   "source": [
    "def three_point_formula_point(func, h, x):\n",
    "    return (func(x + h) - func(x - h)) / (2 * h)\n",
    "three_point_formula_point(lambda x: 1 / x, 0.1, 2)"
   ]
  },
  {
   "cell_type": "markdown",
   "metadata": {
    "collapsed": true
   },
   "source": [
    "###Trapezoid Rule\n",
    "\n",
    "$$\n",
    "\\int_{x_0}^{x_1} f(x) \\, dx = \\frac{h}{2} (y_0 + y_1) - \\frac{h^3}{12}f^{\\prime\\prime} (c)\n",
    "$$\n",
    "\n",
    "Where $h = x_1 - x_0$ and $x_0 \\le c \\le x_1$."
   ]
  },
  {
   "cell_type": "code",
   "execution_count": 27,
   "metadata": {
    "collapsed": true
   },
   "outputs": [],
   "source": [
    "def trapezoid_integration(data, lower, upper, step):\n",
    "    \"\"\"\n",
    "    Perform Numerical Integration using Trapezoidal Rule.\n",
    "    \n",
    "    http://en.wikipedia.org/wiki/Trapezoidal_rule\n",
    "    \n",
    "    :param data: np.ndarray([[x, f(x)], ...])\n",
    "            Data points for numerical integration stored in matrix\n",
    "            for ease of use/access\n",
    "    :param lower: (float) Lower bound for integration\n",
    "    :param upper: (float) Upper bound for integration\n",
    "    :param step: (float) Step size, must be multiple of data interval\n",
    "    \"\"\"\n",
    "    intervals = data[1:, 0] - data[:-1, 0]\n",
    "    if not np.allclose(intervals, intervals[0]):\n",
    "        print('Intervals must be equal')\n",
    "        return\n",
    "    if lower not in data[:, 0] or upper not in data[:, 0]:\n",
    "        print('Bounds must be in dataset')\n",
    "        return\n",
    "    points = data[::step / intervals[0], :]\n",
    "    h = (upper - lower) / len(points)\n",
    "    return (h / 2) * np.sum([points[0, 1]] + list((2 * points[1:-1, 1])) + [points[-1, 1]])"
   ]
  },
  {
   "cell_type": "markdown",
   "metadata": {},
   "source": [
    "###Simpson's Rule\n",
    "\n",
    "$$\n",
    "\\int_{x_0}^{x^2} f(x) \\, dx = \\frac{h}{3} (y_0 + 4y_1 + y_2) - \\frac{h^5}{90}f^{(iv)}(c)\n",
    "$$\n",
    "\n",
    "Where $h = x_2 - x_1 = x_1 - x_0$ and $x_0 \\le c \\le x_2$."
   ]
  },
  {
   "cell_type": "code",
   "execution_count": 28,
   "metadata": {
    "collapsed": true
   },
   "outputs": [],
   "source": [
    "def simpsons_third(data, lower, upper, step):\n",
    "    \"\"\"\n",
    "    Perform Numerical Integration using Simpson's One Third Rule.\n",
    "    \n",
    "    en.wikipedia.org/wiki/Simpson's_rule\n",
    "    \n",
    "    :param data: np.ndarray([[x, f(x)], ...])\n",
    "            Data points for numerical integration stored in matrix\n",
    "            for ease of use/access\n",
    "    :param lower: (float) Lower bound for integration\n",
    "    :param upper: (float) Upper bound for integration\n",
    "    :param step: (float) Step size, must be multiple of data interval\n",
    "    \"\"\"\n",
    "    intervals = data[1:, 0] - data[:-1, 0]\n",
    "    if not np.allclose(intervals, intervals[0]):\n",
    "        print('Intervals must be equal')\n",
    "        return\n",
    "    if lower not in data[:, 0] or upper not in data[:, 0]:\n",
    "        print('Bounds must be in dataset')\n",
    "        return\n",
    "    points = data[::step / intervals[0], :]\n",
    "    h = (upper - lower) / len(points)\n",
    "    return (h / 3) * (points[0, 1] + 4 * np.sum(points[1:-1:2, 1]) +\n",
    "                4 * np.sum(points[2:-2:2, 1]) + points[-1, 1])"
   ]
  },
  {
   "cell_type": "markdown",
   "metadata": {},
   "source": [
    "###Romberg Integration"
   ]
  },
  {
   "cell_type": "markdown",
   "metadata": {},
   "source": [
    "For some function $f$, using the trapezoidal rule we can define integration to be\n",
    "\n",
    "$$\n",
    "\\int_a^b f(x) \\, dx = \\frac{h}{2} \\left( y_0 + y_m + 2 \\sum_{i = 1}^{m - 1} y_i \\right) + c_2 h^2 + c_4 h^4 + c_6h^6 + \\cdots\n",
    "$$\n",
    "\n",
    "We define a series of step sizes\n",
    "\n",
    "$$\n",
    "\\begin{aligned}\n",
    "h_1 &=& b - a\\\\\n",
    "h_2 &=& \\frac{1}{2} (b - a)\\\\\n",
    "&\\vdots&\\\\\n",
    "h_j &=& \\frac{1}{2^{j - 1}}(b - a)\n",
    "\\end{aligned}\n",
    "$$\n",
    "\n",
    "We wish to approximate $M = \\int_a^b f(x) dx$. Define the approximation formulas $R_{j1}$ to be the composite Trapezoid Rule using $h_j$.\n",
    "\n",
    "We can form the tableau\n",
    "\n",
    "$$\n",
    "\\begin{array}{ccccc}\n",
    "R_{11} & & & &\\\\\n",
    "R_{21} & R_{22} & & &\\\\\n",
    "R_{31} & R_{32} & R_{33} & &\\\\\n",
    "R_{41} & R_{42} & R_{43} & R_{44}\\\\\n",
    "\\vdots & & & & \\ddots\\\\\n",
    "\\end{array}\n",
    "$$\n",
    "\n",
    "Where the second column is defined as extrapolations of the first column. Generally,\n",
    "\n",
    "$$\n",
    "R_{jk} = \\frac{4^{k - 1} R_{j,k-1} - R_{j-1,k-1}}{4^{k - 1} - 1}\n",
    "$$\n",
    "\n",
    "This tableau is infinite, and the best approximation is $R_{jj}$."
   ]
  },
  {
   "cell_type": "code",
   "execution_count": 29,
   "metadata": {
    "collapsed": true
   },
   "outputs": [],
   "source": [
    "def simpsons_third(data, lower, upper, step):\n",
    "    intervals = data[1:, 0] - data[:-1, 0]\n",
    "    points = data[::step / intervals[0], :]\n",
    "    h = (upper - lower) / len(points)\n",
    "    return (h / 3) * (points[0, 1] + 4 * np.sum(points[1:-1:2, 1]) +\n",
    "                4 * np.sum(points[2:-2:2, 1]) + points[-1, 1])\n",
    "\n",
    "def romberg_integration(intfunc, data, lower, upper, step, size):\n",
    "    romberg = np.zeros((size, size), dtype=np.float64)\n",
    "    hvals = np.array([(1 / 2**(i)) * (upper - lower) for i in range(size)])\n",
    "    for i in range(size):\n",
    "        romberg[i, 0] = intfunc(data, lower, upper, hvals[i])\n",
    "        for j in range(1, i + 1):\n",
    "            romberg[i, j] = (4**j * romberg[i, j - 1] - romberg[i - 1, j - 1]) / ((4**j) - 1)\n",
    "    return romberg, hvals"
   ]
  },
  {
   "cell_type": "markdown",
   "metadata": {},
   "source": [
    "###Gaussian Quadrature\n",
    "\n",
    "$$\n",
    "\\int_{-1}^1 f(x) \\, dx \\approx \\sum_{i=1}^n c_i f(x_i)\n",
    "$$\n",
    "\n",
    "Where\n",
    "\n",
    "$$\n",
    "c_i = \\int_{-1}^1 L_i(x) \\, dx, \\qquad i = 1, \\ldots, n\n",
    "$$\n",
    "\n",
    "Below are the calculated values.\n",
    "\n",
    "$$\n",
    "\\begin{array}{|c|c|c|}\n",
    "n & \\text{roots } x_i & \\text{coefficients } c_i\\\\\n",
    "\\hline\\\\\n",
    "2 & -\\sqrt{1/3} = -0.57735026 & 1 = 1.0000\\\\\n",
    "  & \\sqrt{1/3} = 0.57735026 & 1 = 1.0000\\\\\n",
    "\\hline\\\\\n",
    "3 & -\\sqrt{3/5} = -0.77459666 & 5/9 = 0.555555\\\\\n",
    "  & 0 = 0.0000 & 8/9 = 0.8888888888\\\\\n",
    "  & \\sqrt{3/5} = 0.77459666 & 5/9 = 0.555555555\\\\\n",
    "\\end{array}\n",
    "$$\n",
    "\n",
    "We can also use this with arbitrary bounds.\n",
    "\n",
    "$$\n",
    "\\int_a^b f(x) \\, dx = \\int_{-1}^1 f\\left( \\frac{(b - a)t + b + a}{2} \\right) \\frac{b - a}{2} \\, dt\n",
    "$$"
   ]
  },
  {
   "cell_type": "code",
   "execution_count": 30,
   "metadata": {
    "collapsed": false
   },
   "outputs": [],
   "source": [
    "def gaussian_quadrature(func, a, b):\n",
    "    new_func = lambda t: func(((b - a) * t + b + a) / 2) * ((b - a) / 2)\n",
    "    legendre_3_coeff = [5 / 9, 8 / 9, 5 / 9]\n",
    "    legendre_3_roots = [-np.sqrt(3 / 5), 0, np.sqrt(3 / 5)]\n",
    "    return np.sum([legendre_3_coeff[i] * new_func(legendre_3_roots[i]) for i in range(3)])"
   ]
  },
  {
   "cell_type": "markdown",
   "metadata": {},
   "source": [
    "#Ordinary Differential Equations"
   ]
  },
  {
   "cell_type": "markdown",
   "metadata": {},
   "source": [
    "##Euler's Method\n",
    "\n",
    "We can solve ODEs using a variety of methods. First is Euler's Method.\n",
    "\n",
    "$$\n",
    "\\begin{aligned}\n",
    "w_0 &=& y_0\\\\\n",
    "w_{i + 1} &=& w_i + h f(t_i, w_i)\n",
    "\\end{aligned}\n",
    "$$"
   ]
  },
  {
   "cell_type": "code",
   "execution_count": 31,
   "metadata": {
    "collapsed": true
   },
   "outputs": [],
   "source": [
    "def forward_euler(f, t0, y0, dt, n):\n",
    "    dim = y0.size\n",
    "    \n",
    "    # Establish blank solution trajectory\n",
    "    # [[y00, ..., y0n, t0],\n",
    "    #  [y10, ..., y1n, t1],\n",
    "    # ...]\n",
    "    traj = np.zeros((n + 1, dim + 1), dtype=np.float64)\n",
    "    \n",
    "    # Set initial position\n",
    "    traj[0, 0:dim] = y0\n",
    "    traj[0, -1]    = t0\n",
    "    \n",
    "    # Iterate\n",
    "    for i in range(1, n + 1):\n",
    "        traj[i, -1] = traj[i - 1, -1] + dt\n",
    "        traj[i, 0:dim] = traj[i - 1, 0:dim] + dt * f(traj[i - 1, -1],\n",
    "                                                     traj[i - 1, 0:dim])\n",
    "    return traj"
   ]
  },
  {
   "cell_type": "code",
   "execution_count": 32,
   "metadata": {
    "collapsed": true
   },
   "outputs": [],
   "source": [
    "def reverse_euler(f, t0, y0, dt, n):\n",
    "    dim = y0.size\n",
    "    \n",
    "    # Establish blank solution trajectory\n",
    "    # [[y00, ..., y0n, t0],\n",
    "    #  [y10, ..., y1n, t1],\n",
    "    # ...]\n",
    "    traj = np.zeros((n + 1, dim + 1), dtype=np.float64)\n",
    "    \n",
    "    # Set initial position\n",
    "    traj[0, 0:dim] = y0\n",
    "    traj[0, -1]    = t0\n",
    "    \n",
    "    for i in range(1, n + 1):\n",
    "        traj[i, -1] = traj[i - 1, -1] + dt\n",
    "        y = traj[i - 1, 0:dim]\n",
    "        for j in range(1000):\n",
    "            y = traj[i - 1, 0:dim] + dt * f(traj[i, -1], y)\n",
    "        traj[i, 0:dim] = traj[i - 1, 0:dim] + dt * f(traj[i, -1], y)\n",
    "    return traj"
   ]
  },
  {
   "cell_type": "code",
   "execution_count": 33,
   "metadata": {
    "collapsed": true
   },
   "outputs": [],
   "source": [
    "def trapezoid_method(f, t0, y0, dt, n):\n",
    "    dim = y0.size\n",
    "    \n",
    "    # Establish blank solution trajectory\n",
    "    # [[y00, ..., y0n, t0],\n",
    "    #  [y10, ..., y1n, t1],\n",
    "    # ...]\n",
    "    traj = np.zeros((n + 1, dim + 1), dtype=np.float64)\n",
    "    \n",
    "    # Set initial position\n",
    "    traj[0, 0:dim] = y0\n",
    "    traj[0, -1]    = t0\n",
    "    \n",
    "    for i in range(1, n + 1):\n",
    "        traj[i, -1] = traj[i - 1, -1] + dt\n",
    "        traj[i, 0:dim] = (traj[i - 1, 0:dim] +\n",
    "                          (dt / 2) *\n",
    "                              (f(traj[i - 1, -1], traj[i - 1, 0:dim]) +\n",
    "                              f(traj[i - 1, -1] + dt,\n",
    "                                traj[i - 1, 0:dim] + dt * f(traj[i - 1, -1],\n",
    "                                                            traj[i - 1, 0:dim]))))\n",
    "    return traj"
   ]
  },
  {
   "cell_type": "markdown",
   "metadata": {},
   "source": [
    "##Higher Order ODEs\n",
    "\n",
    "Some higher order ODE\n",
    "\n",
    "$$\n",
    "y^{(n)} = f\\left(t, y, y^\\prime, \\ldots, y^{(n - 1)}\\right)\n",
    "$$\n",
    "\n",
    "can be rewritten to a system with new variables\n",
    "\n",
    "$$\n",
    "\\begin{aligned}\n",
    "y_1 &=& y\\\\\n",
    "y_2 &=& y^\\prime\\\\\n",
    "&\\vdots&\\\\\n",
    "y_n &=& y^{(n-1)}\n",
    "\\end{aligned}\n",
    "$$\n",
    "\n",
    "Taken together, this can be rewritten to\n",
    "\n",
    "$$\n",
    "\\begin{aligned}\n",
    "y_1^\\prime &=& y_2\\\\\n",
    "y_2^\\prime &=& y_3\\\\\n",
    "&\\vdots&\\\\\n",
    "y_{n - 1}^\\prime &=& y_n\\\\\n",
    "y_n^\\prime &=& f(t, y_1, \\ldots, y_n)\n",
    "\\end{aligned}\n",
    "$$"
   ]
  },
  {
   "cell_type": "markdown",
   "metadata": {},
   "source": [
    "##Runge-Kutta"
   ]
  },
  {
   "cell_type": "markdown",
   "metadata": {},
   "source": [
    "This is defined as\n",
    "\n",
    "$$\n",
    "w_{i + 1} = w_i + \\frac{h}{6} (s_1 + 2s_2 + 2s_3 + s_4)\n",
    "$$"
   ]
  },
  {
   "cell_type": "markdown",
   "metadata": {},
   "source": [
    "where\n",
    "\n",
    "$$\n",
    "\\begin{aligned}\n",
    "s_1 &=& f(t_i, w_i)\\\\\n",
    "s_2 &=& f\\left( t_i + \\frac{h}{2}, w_i + \\frac{h}{2}s_1\\right)\\\\\n",
    "s_3 &=& f\\left( t_i + \\frac{h}{2}, w_i + \\frac{h}{2}s_2\\right)\\\\\n",
    "s_4 &=& f(t_i + h, w_i + hs_3)\\\\\n",
    "\\end{aligned}\n",
    "$$"
   ]
  },
  {
   "cell_type": "code",
   "execution_count": 34,
   "metadata": {
    "collapsed": true
   },
   "outputs": [],
   "source": [
    "def _step_rk4(f, t0, y0, dt):\n",
    "    \"\"\"\n",
    "    Perform one Fourth-Order Runge-Kutta Step\n",
    "    \n",
    "    :param f: function\n",
    "                ODE function with input f(t, y)\n",
    "    :param t0: float\n",
    "                Initial starting time\n",
    "    :param y0: numpy.ndarray()\n",
    "                Initial ODE state (vector)\n",
    "    :param dt: float\n",
    "                Timestep\n",
    "    \"\"\"\n",
    "    k1 = f(t0, y0)\n",
    "    k2 = f(t0 + (dt / 2), y0 + (k1 * dt / 2))\n",
    "    k3 = f(t0 + (dt / 2), y0 + (k2 * dt / 2))\n",
    "    k4 = f(t0 + dt, y0 + (k3 * dt))\n",
    "    y = y0 + dt * ((k1 / 6) + (k2 / 3) +\n",
    "                   (k3 / 3) + (k4 / 6))\n",
    "    return (t0 + dt,\n",
    "            (y0 + dt * ((k1 / 6) + (k2 / 3) +\n",
    "                (k3 / 3) + (k4 / 6))))\n",
    "\n",
    "\n",
    "\n",
    "def mrk4(f, t0, y0, dt, n, writecsv=''):\n",
    "    \"\"\"\n",
    "    Fixed-Step Fourth-Order Runge-Kutta ODE Solver\n",
    "    \n",
    "    :param f: function\n",
    "        ODE function with input f(t, y)\n",
    "    :param t0: float\n",
    "        Initial starting time\n",
    "    :param y0: numpy.ndarray()\n",
    "        Initial ODE state (vector)\n",
    "    :param dt: float\n",
    "        Timestep\n",
    "    :param n: int\n",
    "        Number of iterations (steps) to perform\n",
    "    :param writecsv: bool\n",
    "        :default: False\n",
    "        Write to csv file?\n",
    "    \"\"\"\n",
    "    dim = y0.size\n",
    "\n",
    "    # Establish blank solution trajectory\n",
    "    # [[y00, ..., y0n, t0],\n",
    "    #  [y10, ..., y1n, t1],\n",
    "    # ...]\n",
    "    traj = np.zeros((n + 1, dim + 1), dtype=np.float64)\n",
    "\n",
    "    # Set initial position\n",
    "    traj[0, 0:dim] = y0\n",
    "    traj[0, -1]    = t0\n",
    "\n",
    "    # Iterate\n",
    "    for i in range(1, n + 1):\n",
    "        (traj[i, -1],\n",
    "         traj[i, 0:dim]) = _step_rk4(f,\n",
    "                                    traj[i - 1, -1],\n",
    "                                    traj[i - 1, 0:dim],\n",
    "                                    dt)\n",
    "\n",
    "    if writecsv != '':\n",
    "        with open(writecsv, 'w') as f:\n",
    "            csvwriter = csv.writer(f)\n",
    "            [csvwriter.writerow(line) for line in traj]\n",
    "    return traj"
   ]
  },
  {
   "cell_type": "code",
   "execution_count": 38,
   "metadata": {
    "collapsed": false
   },
   "outputs": [
    {
     "data": {
      "image/png": "[encoded data removed]",
      "text/plain": [
       "<matplotlib.figure.Figure at 0x7f7c6ce5ceb8>"
      ]
     },
     "metadata": {},
     "output_type": "display_data"
    }
   ],
   "source": [
    "k = 1\n",
    "m = 0.5\n",
    "g = 9.8\n",
    "\n",
    "spring_system = lambda t, y: np.array([y[1],\n",
    "                                      -(k / m) * y[0] + g])\n",
    "initial_condition = np.array([1, 0])\n",
    "rk_points = mrk4(spring_system, 0, initial_condition, 0.1, 100)\n",
    "forward_points = forward_euler(spring_system, 0, initial_condition, 0.1, 100)\n",
    "reverse_points = reverse_euler(spring_system, 0, initial_condition, 0.1, 100)\n",
    "trapezoid_points = trapezoid_method(spring_system, 0, initial_condition, 0.1, 100)\n",
    "\n",
    "fig, axarr = plt.subplots(2, 2, figsize=(10, 10))\n",
    "axarr[0, 0].plot(rk_points[:, 0], rk_points[:, 1], label='Runge-Kutta')\n",
    "axarr[0, 1].plot(forward_points[:, 0], forward_points[:, 1], label='Forward Euler')\n",
    "axarr[1, 0].plot(reverse_points[:, 0], reverse_points[:, 1], label='Reverse Euler')\n",
    "axarr[1, 1].plot(trapezoid_points[:, 0], trapezoid_points[:, 1], label='Trapezoid Method')\n",
    "axarr[0, 0].scatter(rk_points[-1, 0], rk_points[-1, 1])\n",
    "axarr[0, 1].scatter(forward_points[-1, 0], forward_points[-1, 1])\n",
    "axarr[1, 0].scatter(reverse_points[-1, 0], reverse_points[-1, 1])\n",
    "axarr[1, 1].scatter(trapezoid_points[-1, 0], trapezoid_points[-1, 1])\n",
    "axarr[0, 0].set_title('Runge-Kutta')\n",
    "axarr[0, 1].set_title('Forward Euler')\n",
    "axarr[1, 0].set_title('Reverse Euler')\n",
    "axarr[1, 1].set_title('Trapezoid Method')\n",
    "plt.show()"
   ]
  },
  {
   "cell_type": "code",
   "execution_count": null,
   "metadata": {
    "collapsed": true
   },
   "outputs": [],
   "source": []
  }
 ],
 "metadata": {
  "kernelspec": {
   "display_name": "Python 3",
   "language": "python",
   "name": "python3"
  },
  "language_info": {
   "codemirror_mode": {
    "name": "ipython",
    "version": 3
   },
   "file_extension": ".py",
   "mimetype": "text/x-python",
   "name": "python",
   "nbconvert_exporter": "python",
   "pygments_lexer": "ipython3",
   "version": "3.4.3"
  }
 },
 "nbformat": 4,
 "nbformat_minor": 0
}
