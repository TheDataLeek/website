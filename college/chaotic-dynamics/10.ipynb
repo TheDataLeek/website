{
 "cells": [
  {
   "cell_type": "code",
   "execution_count": 18,
   "metadata": {
    "collapsed": false
   },
   "outputs": [
    {
     "name": "stdout",
     "output_type": "stream",
     "text": [
      "Populating the interactive namespace from numpy and matplotlib\n"
     ]
    }
   ],
   "source": [
    "import numpy as np\n",
    "import matplotlib.pyplot as plt\n",
    "import pandas as pd\n",
    "import csv\n",
    "import os\n",
    "\n",
    "%pylab inline"
   ]
  },
  {
   "cell_type": "markdown",
   "metadata": {},
   "source": [
    "**1. Implement the box-counting algorithm for computing capacity dimension from an experimental data set. You are welcome to use any of the version that appear in the assigned reading. Please also give an english description of methods used.**"
   ]
  },
  {
   "cell_type": "code",
   "execution_count": 2,
   "metadata": {
    "collapsed": false
   },
   "outputs": [],
   "source": [
    "def count_boxes(trajectory, epsilon):\n",
    "    \"\"\"\n",
    "    Count boxes in n-dimensional space\n",
    "    \"\"\"\n",
    "    # First convert values to coordinates\n",
    "    shifted_trajectory = np.array(trajectory / epsilon, dtype=int)\n",
    "    sparse_array = {}\n",
    "    for coord in shifted_trajectory:\n",
    "        sparse_array[tuple(coord)] = 1\n",
    "    return len(sparse_array.keys())"
   ]
  },
  {
   "cell_type": "code",
   "execution_count": 3,
   "metadata": {
    "collapsed": false
   },
   "outputs": [],
   "source": [
    "def box_counting(trajectory, epsilon_values):\n",
    "    \"\"\"\n",
    "    Find capacity dimension\n",
    "    \"\"\"\n",
    "    comp_func = lambda e: count_boxes(trajectory, e)\n",
    "    return [comp_func(e) for e in epsilon_values]"
   ]
  },
  {
   "cell_type": "code",
   "execution_count": 4,
   "metadata": {
    "collapsed": false
   },
   "outputs": [],
   "source": [
    "def box_counting_parallel(trajectory_file, dimension, domain, numcores):\n",
    "    open('outfile.csv', 'w')\n",
    "    bins = np.array_split(domain, numcores)\n",
    "    with open('bins.csv', 'w') as bf:\n",
    "        writer = csv.writer(bf)\n",
    "        for d in bins:\n",
    "            writer.writerow(d)\n",
    "    for i in range(numcores):\n",
    "        command = 'python3 ./run_counts.py -b bins.csv -i {} -t {} -d {}&'\\\n",
    "                  .format(i, trajectory_file, dimension)\n",
    "        os.system(command)"
   ]
  },
  {
   "cell_type": "markdown",
   "metadata": {},
   "source": [
    "This algorithm takes advantage of the simple fact that we can convert the coordinates of the trajectory point into the coordinates for the hypercubes in our state space by dividing by the box width.\n",
    "\n",
    "We start by dividing by the box width and truncating.\n",
    "\n",
    "Then we simply need to figure out which boxes were entered. If we were to take a naive approach and create an $m^n$ sized state-space, we would need to mark each box as 1 and the figure out how many boxes were entered.\n",
    "\n",
    "The issues with this approach are many. First and foremost is the fact that this has a huge memory requirement.\n",
    "\n",
    "Instead we simply create a \"sparse\" matrix, where all entries are assumed to be zero by not initializing them, and all initialized coordinates are denoted by existing in the matrix. For each converted coordinate point in our trajectory, we add it to our sparse array and set the value to 1.\n",
    "\n",
    "(More specifically, we take advantage of the fact the python dictionaries are very fast, and that tuples are hashable. This lets us convert the point into a tuple and use it as the key for our dictionary. Dictionaries won't allow duplicate keys, so our \"sparse\" matrix maintains its integrity.)\n",
    "\n",
    "Finally, we simply count how many values have been entered in the array, which is allowed since each is set to 1.\n",
    "\n",
    "This is the sneaky way to get around memory restrictions.\n",
    "\n",
    "The parallel version on the other hand bins the domain into 8 different bins (how many cores my computer has) and runs each bin on a different core. This speeds it up significantly. I've attached the code from `run_counts.py` below in the appendix."
   ]
  },
  {
   "cell_type": "markdown",
   "metadata": {},
   "source": [
    "**2. (a) Test your algorithm on the embedded Lorenz attractor that you created for problem 6(a) on PS9. Explain your results and turn in a plot of $\\log N(\\epsilon)$ versus $\\log(1 / \\epsilon )$.**"
   ]
  },
  {
   "cell_type": "markdown",
   "metadata": {},
   "source": [
    "We can run this on our data from problem set 9 with the embedded Lorenz Attractor. We first will create the embedded version with $\\tau = 105$ and $m = 7$."
   ]
  },
  {
   "cell_type": "code",
   "execution_count": 4,
   "metadata": {
    "collapsed": false
   },
   "outputs": [
    {
     "name": "stdout",
     "output_type": "stream",
     "text": [
      "\r\n",
      "TISEAN 3.0.1 (C) R. Hegger, H. Kantz, T. Schreiber (1998-2007)\r\n",
      "\r\n",
      "delay: Produces delay vectors\r\n",
      "\r\n",
      "Using ../problemset9/p6_lorenz.csv as datafile!\r\n",
      "Using columns: 1 \r\n",
      "get_multi_series: first data item(s) used:\r\n",
      "28.000000 \r\n",
      "Use 30001 lines.\r\n",
      "Opened p6_lorenz_embedded.csv for writing\r\n"
     ]
    }
   ],
   "source": [
    "!delay -m 7 -d 105 ../problemset9/p6_lorenz.csv -o p6_lorenz_embedded.csv"
   ]
  },
  {
   "cell_type": "markdown",
   "metadata": {},
   "source": [
    "Now we specify the domain for the $\\epsilon$ values."
   ]
  },
  {
   "cell_type": "code",
   "execution_count": 5,
   "metadata": {
    "collapsed": false
   },
   "outputs": [],
   "source": [
    "domain = np.arange(100, 0, -0.01)"
   ]
  },
  {
   "cell_type": "markdown",
   "metadata": {},
   "source": [
    "Now we can run it with the embedded values."
   ]
  },
  {
   "cell_type": "code",
   "execution_count": 71,
   "metadata": {
    "collapsed": false
   },
   "outputs": [],
   "source": [
    "box_counting_parallel('./p6_lorenz_embedded.csv', 7, domain, 8)"
   ]
  },
  {
   "cell_type": "markdown",
   "metadata": {},
   "source": [
    "Now we can plot our result and take the slope of the straight line. We know the general form of this line, so we don't need to plot both tails."
   ]
  },
  {
   "cell_type": "code",
   "execution_count": 21,
   "metadata": {
    "collapsed": false
   },
   "outputs": [
    {
     "data": {
      "image/png": "[encoded data removed]",
      "text/plain": [
       "<matplotlib.figure.Figure at 0x7fb41471d358>"
      ]
     },
     "metadata": {},
     "output_type": "display_data"
    },
    {
     "data": {
      "text/plain": [
       "1.6596324049738598"
      ]
     },
     "execution_count": 21,
     "metadata": {},
     "output_type": "execute_result"
    }
   ],
   "source": [
    "vals = np.array(sorted(pd.read_csv('outfile1.csv', header=None).values,\n",
    "                       key=lambda arr: arr[0]))[::-1]\n",
    "points = np.transpose(np.array([np.log(1 / vals[:, 0]), np.log(vals[:, 1])]))\n",
    "\n",
    "get_midpoints = lambda lower, upper, points: (\n",
    "                    np.sort(\n",
    "                        np.intersect1d(\n",
    "                            np.where(lower <= points[:, 0]),\n",
    "                            np.where(points[:, 0] <= upper)))\n",
    "\n",
    "lower, upper = -2.5, -0.3\n",
    "\n",
    "line_points = get_midpoints(lower, upper, points)\n",
    "straight_section = points[line_points[0]:line_points[-1], :]\n",
    "\n",
    "plt.figure(figsize=(10, 6))\n",
    "plt.plot(points[:, 0], points[:, 1])\n",
    "line_coeff = np.polyfit(straight_section[:, 0], straight_section[:, 1], 1)\n",
    "line = lambda x: line_coeff[0] * x + line_coeff[1]\n",
    "plt.plot(np.arange(lower, upper, 0.1), line(np.arange(lower, upper, 0.1)))\n",
    "plt.plot(np.ones(12) * lower, np.arange(0, 12), 'k--')\n",
    "plt.plot(np.ones(12) * upper, np.arange(0, 12), 'k--')\n",
    "plt.show()\n",
    "\n",
    "line_coeff[0]"
   ]
  },
  {
   "cell_type": "markdown",
   "metadata": {
    "collapsed": true
   },
   "source": [
    "We can clearly see that the straight period is maintained from $-2.5$ to $-0.3$. Fitting a line we see the slope is approximately equal to $1.65$."
   ]
  },
  {
   "cell_type": "markdown",
   "metadata": {
    "collapsed": true
   },
   "source": [
    "**(b) Now try your box-counting algorithm on the original trajectory. Compare and contrast your results.**"
   ]
  },
  {
   "cell_type": "code",
   "execution_count": 86,
   "metadata": {
    "collapsed": false
   },
   "outputs": [],
   "source": [
    "box_counting_parallel('./p6_lorenz.csv', 3, domain, 8)"
   ]
  },
  {
   "cell_type": "code",
   "execution_count": 22,
   "metadata": {
    "collapsed": false
   },
   "outputs": [
    {
     "data": {
      "image/png": "[encoded data removed]",
      "text/plain": [
       "<matplotlib.figure.Figure at 0x7fb4145e1d30>"
      ]
     },
     "metadata": {},
     "output_type": "display_data"
    },
    {
     "data": {
      "text/plain": [
       "1.837431503147416"
      ]
     },
     "execution_count": 22,
     "metadata": {},
     "output_type": "execute_result"
    }
   ],
   "source": [
    "vals = np.array(sorted(pd.read_csv('outfile2.csv', header=None).values,\n",
    "                       key=lambda arr: arr[0]))[::-1]\n",
    "points = np.transpose(np.array([np.log(1 / vals[:, 0]), np.log(vals[:, 1])]))\n",
    "\n",
    "lower, upper = -2.5, -0.2\n",
    "\n",
    "line_points = get_midpoints(lower, upper, points)\n",
    "straight_section = points[line_points[0]:line_points[-1], :]\n",
    "\n",
    "plt.figure(figsize=(10, 6))\n",
    "plt.plot(points[:, 0], points[:, 1])\n",
    "line_coeff = np.polyfit(straight_section[:, 0], straight_section[:, 1], 1)\n",
    "line = lambda x: line_coeff[0] * x + line_coeff[1]\n",
    "plt.plot(np.arange(lower, upper, 0.1), line(np.arange(lower, upper, 0.1)))\n",
    "plt.plot(np.ones(12) * lower, np.arange(0, 12), 'k--')\n",
    "plt.plot(np.ones(12) * upper, np.arange(0, 12), 'k--')\n",
    "plt.show()\n",
    "\n",
    "line_coeff[0]"
   ]
  },
  {
   "cell_type": "markdown",
   "metadata": {
    "collapsed": true
   },
   "source": [
    "As we've talked about in class, the embedded trajectory has approximately the same capacity dimension as the original trajectory. We're off by a little bit, but more steps would fix this problem.\n",
    "\n",
    "In terms of the algorithm, I've optimized the algorithm to the point that it would be harder to get better. Right now the parallelization is crude and clunky, using files as a means to transmit data. The next step would be to use python's `threading` module to do the parallelization."
   ]
  },
  {
   "cell_type": "markdown",
   "metadata": {
    "collapsed": true
   },
   "source": [
    "**(c) Repeat part (b) of this problem with a longer version of the same trajectory. Do your results change? If so, which do you trust most? Why?**"
   ]
  },
  {
   "cell_type": "markdown",
   "metadata": {},
   "source": [
    "Using prior code we can create a trajectory that is 100000 steps long instead of only 30000. We can then run our code on this trajectory."
   ]
  },
  {
   "cell_type": "code",
   "execution_count": 6,
   "metadata": {
    "collapsed": false
   },
   "outputs": [],
   "source": [
    "box_counting_parallel('./p6_lorenz_100000.csv', 3, domain, 8)"
   ]
  },
  {
   "cell_type": "code",
   "execution_count": 23,
   "metadata": {
    "collapsed": false
   },
   "outputs": [
    {
     "data": {
      "image/png": "[encoded data removed]",
      "text/plain": [
       "<matplotlib.figure.Figure at 0x7fb4148a8208>"
      ]
     },
     "metadata": {},
     "output_type": "display_data"
    },
    {
     "data": {
      "text/plain": [
       "1.9168622269361926"
      ]
     },
     "execution_count": 23,
     "metadata": {},
     "output_type": "execute_result"
    }
   ],
   "source": [
    "vals = np.array(sorted(pd.read_csv('outfile3.csv', header=None).values,\n",
    "                       key=lambda arr: arr[0]))[::-1]\n",
    "points = np.transpose(np.array([np.log(1 / vals[:, 0]), np.log(vals[:, 1])]))\n",
    "\n",
    "lower, upper = -3, 0.5\n",
    "\n",
    "line_points = get_midpoints(lower, upper, points)\n",
    "straight_section = points[line_points[0]:line_points[-1], :]\n",
    "\n",
    "plt.figure(figsize=(10, 6))\n",
    "plt.plot(points[:, 0], points[:, 1])\n",
    "line_coeff = np.polyfit(straight_section[:, 0], straight_section[:, 1], 1)\n",
    "line = lambda x: line_coeff[0] * x + line_coeff[1]\n",
    "plt.plot(np.arange(lower, upper, 0.1), line(np.arange(lower, upper, 0.1)))\n",
    "plt.plot(np.ones(12) * lower, np.arange(0, 12), 'k--')\n",
    "plt.plot(np.ones(12) * upper, np.arange(0, 12), 'k--')\n",
    "plt.show()\n",
    "\n",
    "line_coeff[0]"
   ]
  },
  {
   "cell_type": "markdown",
   "metadata": {},
   "source": [
    "Our results have changed from the previous attempts. It's much closer to $1.91$ now, and I trust this value much better. More results will mean the state-space has been more filled with the trajectory. By not filling this state-space (as was done with the initial two trajectories) we undercount how many hypercubes are crossed into because we don't have a full expression of the trajectory."
   ]
  },
  {
   "cell_type": "markdown",
   "metadata": {},
   "source": [
    "#Appendix\n",
    "\n",
    "## run_counts.py"
   ]
  },
  {
   "cell_type": "code",
   "execution_count": null,
   "metadata": {
    "collapsed": true
   },
   "outputs": [],
   "source": [
    "#!/usr/bin/env python3\n",
    "\n",
    "import numpy as np\n",
    "import csv\n",
    "import pandas as pd\n",
    "import argparse\n",
    "import sys\n",
    "\n",
    "def main():\n",
    "    args = get_args()\n",
    "    bins = pd.read_csv(args.binfile, header=None)\n",
    "    domain = np.array(bins.values[args.binnum], dtype=np.float64)\n",
    "    trajectory = pd.read_csv(args.trajectory,\n",
    "                    header=None, sep=' ').values[:, :args.dimension]\n",
    "    values = box_counting(trajectory, domain)\n",
    "    with open(args.outfile, 'a') as of:\n",
    "        writer = csv.writer(of)\n",
    "        for i in range(len(values)):\n",
    "            writer.writerow([domain[i], values[i]])\n",
    "\n",
    "def count_boxes(trajectory, epsilon):\n",
    "    \"\"\"\n",
    "    Count boxes in n-dimensional space\n",
    "    \"\"\"\n",
    "    # First convert values to coordinates\n",
    "    shifted_trajectory = np.array(trajectory / epsilon, dtype=int)\n",
    "    sparse_array = {}\n",
    "    for coord in shifted_trajectory:\n",
    "        sparse_array[tuple(coord)] = 1\n",
    "    return len(sparse_array.keys())\n",
    "\n",
    "def box_counting(trajectory, epsilon_values):\n",
    "    \"\"\"\n",
    "    Find capacity dimension\n",
    "    \"\"\"\n",
    "    comp_func = lambda e: count_boxes(trajectory, e)\n",
    "    return [comp_func(e) for e in epsilon_values]\n",
    "\n",
    "def get_args():\n",
    "    parser = argparse.ArgumentParser(description='Run box-counting for a range')\n",
    "    parser.add_argument('--binfile', '-b', type=str,\n",
    "                        default='./bins.csv', help='Which binfile to use')\n",
    "    parser.add_argument('--binnum', '-i', type=int,\n",
    "                        default=0, help='Which bin line to use')\n",
    "    parser.add_argument('--trajectory', '-t', type=str,\n",
    "                        default='./trajectory.csv', help='Which trajectory to use')\n",
    "    parser.add_argument('--outfile', '-o', type=str,\n",
    "                        default='./outfile.csv', help='Which outfile to use')\n",
    "    parser.add_argument('--dimension', '-d', type=int,\n",
    "                        default=3, help='Dimension of the trajectory')\n",
    "    args = parser.parse_args()\n",
    "    return args\n",
    "\n",
    "if __name__ == '__main__':\n",
    "    sys.exit(main())"
   ]
  },
  {
   "cell_type": "markdown",
   "metadata": {},
   "source": [
    "## Other Implementations\n",
    "\n",
    "I also tried using Apache Spark. This method turned out to be worse. Spark is not intended for this."
   ]
  },
  {
   "cell_type": "code",
   "execution_count": null,
   "metadata": {
    "collapsed": true
   },
   "outputs": [],
   "source": [
    "def spark_counting(domain, trajectory_file, dimension):\n",
    "    shifted = sc.textFile(trajectory_file)\\\n",
    "                .map(lambda line: tuple([float(v) for v in line.split(',')][:dimension]))\\\n",
    "                .map(lambda tup: [tuple(int(v / e) for v in tup) for e in domain])\\\n",
    "                .reduce(lambda agg, nxt: [[agg[i]] + [nxt[i]] if type(agg[i]) is tuple else\n",
    "                                          agg[i] + [nxt[i]] for i in range(len(domain))])\n",
    "    vals = sc.parallelize(shifted)\\\n",
    "                .map(lambda row: row[:-1])\\\n",
    "                .map(lambda row: len(set(row)))\\\n",
    "                .collect()\n",
    "    return vals"
   ]
  },
  {
   "cell_type": "markdown",
   "metadata": {},
   "source": [
    "The optimized version creates an array for every $\\epsilon$ value, and performs every operation at once. This implementation is much faster, although the principle remains the same. I don't use this optimized version, because as it turns out, it's not that much better than the non-optimized version, and if I optimize it further by using built-in `numpy` functions, I need more than 16GB of memory to contain the resulting float array."
   ]
  },
  {
   "cell_type": "code",
   "execution_count": 7,
   "metadata": {
    "collapsed": false
   },
   "outputs": [],
   "source": [
    "def box_counting_optimized(trajectory, dimension, domain):\n",
    "    bits = np.zeros((len(trajectory), len(domain), dimension), dtype=np.float64)\n",
    "\n",
    "    for i in range(len(domain)):\n",
    "        bits[:, i, :] = np.array(trajectory / domain[i], dtype=np.int)\n",
    "    counts = [{} for i in domain]\n",
    "    for i in range(len(trajectory)):\n",
    "        for j in range(len(domain)):\n",
    "            counts[j][tuple((int(k) for k in bits[i][j]))] = 1\n",
    "\n",
    "    return [len(counts[i]) for i in range(len(domain))]"
   ]
  }
 ],
 "metadata": {
  "kernelspec": {
   "display_name": "Python 3",
   "language": "python",
   "name": "python3"
  },
  "language_info": {
   "codemirror_mode": {
    "name": "ipython",
    "version": 3
   },
   "file_extension": ".py",
   "mimetype": "text/x-python",
   "name": "python",
   "nbconvert_exporter": "python",
   "pygments_lexer": "ipython3",
   "version": "3.5.1"
  }
 },
 "nbformat": 4,
 "nbformat_minor": 0
}
