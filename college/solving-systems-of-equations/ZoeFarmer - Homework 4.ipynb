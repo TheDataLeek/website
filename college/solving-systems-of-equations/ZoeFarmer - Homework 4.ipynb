{
 "metadata": {
  "name": "",
  "signature": "sha256:b42bd9989852785ff1586ade1eb0c4266648e3fe5adf143a343aa744cb2b8a1e"
 },
 "nbformat": 3,
 "nbformat_minor": 0,
 "worksheets": [
  {
   "cells": [
    {
     "cell_type": "code",
     "collapsed": false,
     "input": [
      "import numpy as np\n",
      "import matplotlib.pyplot as plt\n",
      "from numpy.linalg import solve\n",
      "from numpy.linalg import inv\n",
      "from numpy.linalg import cond\n",
      "\n",
      "%pylab inline"
     ],
     "language": "python",
     "metadata": {},
     "outputs": [
      {
       "output_type": "stream",
       "stream": "stdout",
       "text": [
        "Populating the interactive namespace from numpy and matplotlib\n"
       ]
      }
     ],
     "prompt_number": 1
    },
    {
     "cell_type": "markdown",
     "metadata": {},
     "source": [
      "**1. Write a program that takes as input a $3 \\times 3$ matrix $\\mathbf{A}$ and a three-element vector $\\vec{b}$, uses Gaussian elimination without pivoting to find the solution $\\vec{x}$ to the matrix equation, and prints the augmented matrix at every step.**"
     ]
    },
    {
     "cell_type": "code",
     "collapsed": false,
     "input": [
      "def printaugmented(a, b, n):\n",
      "    for i in range(n):\n",
      "        print('|\\t{}\\t|\\t{}\\t|'.format(\n",
      "            '\\t'.join([str(round(x, 3)) for x in list(a[i])]),\n",
      "            round(b[i, 0], 3)))\n",
      "    print('')\n",
      "\n",
      "def matrixsolver(matrix, b):\n",
      "    m, n = matrix.shape\n",
      "    x = np.zeros(n)\n",
      "    printaugmented(matrix, b, n)\n",
      "    for j in range(1, n):\n",
      "        for i in range(j):\n",
      "            mult = matrix[j, i] / matrix[i, i]\n",
      "            matrix[j] = matrix[j] - mult * matrix[i]\n",
      "            b[j] = b[j] - mult * b[i]\n",
      "            printaugmented(matrix, b, n)\n",
      "            \n",
      "    for i in range(n - 1, -1, -1):\n",
      "        for j in range(i, n):\n",
      "            b[i] = b[i] - matrix[i, j] * x[j]\n",
      "        x[i] = b[i] / matrix[i, i]\n",
      "    return x"
     ],
     "language": "python",
     "metadata": {},
     "outputs": [],
     "prompt_number": 2
    },
    {
     "cell_type": "markdown",
     "metadata": {},
     "source": [
      "**(A) Use your program to solve the following set of equations.**\n",
      "\n",
      "$$\n",
      "\\begin{aligned}\n",
      "3 x_1 + x_2 - 2 x_3 &=& -17\\\\\n",
      "-6 x_1 + 2x_2 + 2x_3 &=& 4\\\\\n",
      "-x_1 + 3x_2 + 2x_3 &=& 1\n",
      "\\end{aligned}\n",
      "$$"
     ]
    },
    {
     "cell_type": "code",
     "collapsed": false,
     "input": [
      "q1a = np.array([[3, 1, -2],\n",
      "               [-6, 2, 2],\n",
      "               [-1, 3, 2]], dtype=float)\n",
      "q1b = np.array([[-17],\n",
      "                [4],\n",
      "                [1]], dtype=float)\n",
      "\n",
      "print(solve(q1a, q1b))\n",
      "matrixsolver(q1a, q1b)"
     ],
     "language": "python",
     "metadata": {},
     "outputs": [
      {
       "output_type": "stream",
       "stream": "stdout",
       "text": [
        "[[ 0.22222222]\n",
        " [-4.11111111]\n",
        " [ 6.77777778]]\n",
        "|\t3.0\t1.0\t-2.0\t|\t-17.0\t|\n",
        "|\t-6.0\t2.0\t2.0\t|\t4.0\t|\n",
        "|\t-1.0\t3.0\t2.0\t|\t1.0\t|\n",
        "\n",
        "|\t3.0\t1.0\t-2.0\t|\t-17.0\t|\n",
        "|\t0.0\t4.0\t-2.0\t|\t-30.0\t|\n",
        "|\t-1.0\t3.0\t2.0\t|\t1.0\t|\n",
        "\n",
        "|\t3.0\t1.0\t-2.0\t|\t-17.0\t|\n",
        "|\t0.0\t4.0\t-2.0\t|\t-30.0\t|\n",
        "|\t0.0\t3.333\t1.333\t|\t-4.667\t|\n",
        "\n",
        "|\t3.0\t1.0\t-2.0\t|\t-17.0\t|\n",
        "|\t0.0\t4.0\t-2.0\t|\t-30.0\t|\n",
        "|\t0.0\t0.0\t3.0\t|\t20.333\t|\n",
        "\n"
       ]
      },
      {
       "metadata": {},
       "output_type": "pyout",
       "prompt_number": 3,
       "text": [
        "array([ 0.22222222, -4.11111111,  6.77777778])"
       ]
      }
     ],
     "prompt_number": 3
    },
    {
     "cell_type": "markdown",
     "metadata": {},
     "source": [
      "**(B) Use your program to solve the following set of equations.**\n",
      "\n",
      "$$\n",
      "\\begin{aligned}\n",
      "0.729 x_1 + 0.81 x_2 + 0.9x_3 &=& 0.6867\\\\\n",
      "x_1 + x_2 + x_3 &=& 0.8338\\\\\n",
      "1.331 x_1 + 1.21 x_2 + 1.1x_3 &=& 1\n",
      "\\end{aligned}\n",
      "$$"
     ]
    },
    {
     "cell_type": "code",
     "collapsed": false,
     "input": [
      "q2a = np.array([[0.729, 0.81, 0.9],\n",
      "               [1, 1, 1],\n",
      "               [1.331, 1.21, 1.1]], dtype=float)\n",
      "q2b = np.array([[0.6867],\n",
      "               [0.8338],\n",
      "               [1]], dtype=float)\n",
      "\n",
      "print(solve(q2a, q2b))\n",
      "matrixsolver(q2a, q2b)"
     ],
     "language": "python",
     "metadata": {},
     "outputs": [
      {
       "output_type": "stream",
       "stream": "stdout",
       "text": [
        "[[ 0.22454545]\n",
        " [ 0.28136364]\n",
        " [ 0.32789091]]\n",
        "|\t0.729\t0.81\t0.9\t|\t0.687\t|\n",
        "|\t1.0\t1.0\t1.0\t|\t0.834\t|\n",
        "|\t1.331\t1.21\t1.1\t|\t1.0\t|\n",
        "\n",
        "|\t0.729\t0.81\t0.9\t|\t0.687\t|\n",
        "|\t0.0\t-0.111\t-0.235\t|\t-0.108\t|\n",
        "|\t1.331\t1.21\t1.1\t|\t1.0\t|\n",
        "\n",
        "|\t0.729\t0.81\t0.9\t|\t0.687\t|\n",
        "|\t0.0\t-0.111\t-0.235\t|\t-0.108\t|\n",
        "|\t0.0\t-0.269\t-0.543\t|\t-0.254\t|\n",
        "\n",
        "|\t0.729\t0.81\t0.9\t|\t0.687\t|\n",
        "|\t0.0\t-0.111\t-0.235\t|\t-0.108\t|\n",
        "|\t0.0\t0.0\t0.024\t|\t0.008\t|\n",
        "\n"
       ]
      },
      {
       "metadata": {},
       "output_type": "pyout",
       "prompt_number": 4,
       "text": [
        "array([ 0.22454545,  0.28136364,  0.32789091])"
       ]
      }
     ],
     "prompt_number": 4
    },
    {
     "cell_type": "markdown",
     "metadata": {},
     "source": [
      "**(C) Use your program to solve the following set of equations.**\n",
      "\n",
      "$$\n",
      "\\begin{aligned}\n",
      "3 x_1 + x_2 - 2 x_3 &=& -17\\\\\n",
      "6 x_1 + 2x_2 + -4x_3 &=& 4\\\\\n",
      "-x_1 + 3x_2 + 2x_3 &=& 1\n",
      "\\end{aligned}\n",
      "$$"
     ]
    },
    {
     "cell_type": "code",
     "collapsed": false,
     "input": [
      "q3a = np.array([[3, 1, -2],\n",
      "               [6, 2, -4],\n",
      "               [-1, 3, 2]], dtype=float)\n",
      "q3b = np.array([[-17],\n",
      "               [4],\n",
      "               [1]], dtype=float)\n",
      "\n",
      "try:\n",
      "    print(solve(q3a, q3b))\n",
      "except LinAlgError:\n",
      "    print('Singular Matrix')\n",
      "matrixsolver(q3a, q3b)"
     ],
     "language": "python",
     "metadata": {},
     "outputs": [
      {
       "output_type": "stream",
       "stream": "stdout",
       "text": [
        "Singular Matrix\n",
        "|\t3.0\t1.0\t-2.0\t|\t-17.0\t|\n",
        "|\t6.0\t2.0\t-4.0\t|\t4.0\t|\n",
        "|\t-1.0\t3.0\t2.0\t|\t1.0\t|\n",
        "\n",
        "|\t3.0\t1.0\t-2.0\t|\t-17.0\t|\n",
        "|\t0.0\t0.0\t0.0\t|\t38.0\t|\n",
        "|\t-1.0\t3.0\t2.0\t|\t1.0\t|\n",
        "\n",
        "|\t3.0\t1.0\t-2.0\t|\t-17.0\t|\n",
        "|\t0.0\t0.0\t0.0\t|\t38.0\t|\n",
        "|\t0.0\t3.333\t1.333\t|\t-4.667\t|\n",
        "\n",
        "|\t3.0\t1.0\t-2.0\t|\t-17.0\t|\n",
        "|\t0.0\t0.0\t0.0\t|\t38.0\t|\n",
        "|\tnan\tnan\tnan\t|\t-inf\t|\n",
        "\n"
       ]
      },
      {
       "output_type": "stream",
       "stream": "stderr",
       "text": [
        "-c:14: RuntimeWarning: divide by zero encountered in double_scalars\n",
        "-c:15: RuntimeWarning: invalid value encountered in multiply\n"
       ]
      },
      {
       "metadata": {},
       "output_type": "pyout",
       "prompt_number": 5,
       "text": [
        "array([ nan,  nan,  nan])"
       ]
      }
     ],
     "prompt_number": 5
    },
    {
     "cell_type": "markdown",
     "metadata": {},
     "source": [
      "**2. Compute the condition number of the three matrices in problem 1 using the $||.||_\\infty$ norm. What do those numbers tell you about those matrices? Does that line up with what happened when you ran your Gaussian elimination code on them?**\n",
      "\n",
      "The condition number for a given matrix $m$ is given by $||m||_\\infty \\cdot ||m^{-1}||_\\infty$."
     ]
    },
    {
     "cell_type": "code",
     "collapsed": false,
     "input": [
      "infinitynorm = lambda m: max([np.sum([np.abs(entry) for entry in row])\n",
      "                          for row in m])\n",
      "\n",
      "print('Matrix 1A Condition Number: {}'.format(infinitynorm(q1a) * infinitynorm(inv(q1a))))\n",
      "print('Matrix 2A Condition Number: {}'.format(infinitynorm(q2a) * infinitynorm(inv(q2a))))\n",
      "print('Matrix 3A Condition Number: {}'.format(infinitynorm(q3a) * infinitynorm(inv(q3a))))"
     ],
     "language": "python",
     "metadata": {},
     "outputs": [
      {
       "output_type": "stream",
       "stream": "stdout",
       "text": [
        "Matrix 1A Condition Number: 3.4999999999999996\n",
        "Matrix 2A Condition Number: 232.59190909090682\n",
        "Matrix 3A Condition Number: nan\n"
       ]
      }
     ],
     "prompt_number": 6
    },
    {
     "cell_type": "markdown",
     "metadata": {},
     "source": [
      "These answers make sense in terms of our calculated solutions. We know the third matrix is Singular, meaning no answer can be calculated. The new information we glean comes from the second matrix's condition number. This high value indicates that even a small error in $\\vec{b}$ will result in a large error in the solution."
     ]
    },
    {
     "cell_type": "markdown",
     "metadata": {},
     "source": [
      "**3. Solve the system in problem 1b. by hand using Gaussian elimination with partial pivoting. Do you get the same answer with and without pivoting? Why or why not?**\n",
      "\n",
      "System 1b is the following.\n",
      "\n",
      "$$\n",
      "\\left[\n",
      "\\begin{array}{ccc|c}\n",
      "0.729 & 0.81 & 0.9 & 0.6867\\\\\n",
      "1 & 1 & 1 & 0.8338\\\\\n",
      "1.331 & 1.21 & 1.1 & 1\n",
      "\\end{array}\n",
      "\\right]\n",
      "$$\n",
      "\n",
      "Using partial pivoting we first switch the rows around and then solve using partial pivoting.\n",
      "\n",
      "$$\n",
      "\\begin{array}{ccc}\n",
      "\\left[\n",
      "\\begin{array}{ccc|c}\n",
      "0.729 & 0.81 & 0.9 & 0.6867\\\\\n",
      "1 & 1 & 1 & 0.8338\\\\\n",
      "1.331 & 1.21 & 1.1 & 1\n",
      "\\end{array}\n",
      "\\right] & L_1 \\leftrightarrow L_3 &\n",
      "\\left[\n",
      "\\begin{array}{ccc|c}\n",
      "1.331 & 1.21 & 1.1 & 1\\\\\n",
      "1 & 1 & 1 & 0.8338\\\\\n",
      "0.729 & 0.81 & 0.9 & 0.6867\\\\\n",
      "\\end{array}\n",
      "\\right]\\\\\n",
      "\\left[\n",
      "\\begin{array}{ccc|c}\n",
      "1.331 & 1.21 & 1.1 & 1\\\\\n",
      "1 & 1 & 1 & 0.8338\\\\\n",
      "0.729 & 0.81 & 0.9 & 0.6867\\\\\n",
      "\\end{array}\n",
      "\\right] & -\\frac{L_1}{1.331} + L_2 \\rightarrow L_2 &\n",
      "\\left[\n",
      "\\begin{array}{ccc|c}\n",
      "1.331 & 1.21 & 1.1 & 1\\\\\n",
      "0 & 0.0909 & 0.17355 & 0.0824\\\\\n",
      "0.729 & 0.81 & 0.9 & 0.6867\\\\\n",
      "\\end{array}\n",
      "\\right]\\\\\n",
      "\\left[\n",
      "\\begin{array}{ccc|c}\n",
      "1.331 & 1.21 & 1.1 & 1\\\\\n",
      "0 & 0.0909 & 0.17355 & 0.0824\\\\\n",
      "0.729 & 0.81 & 0.9 & 0.6867\\\\\n",
      "\\end{array}\n",
      "\\right] & -\\frac{0.729 L_1}{1.331} + L_3 \\rightarrow L_3 &\n",
      "\\left[\n",
      "\\begin{array}{ccc|c}\n",
      "1.331 & 1.21 & 1.1 & 1\\\\\n",
      "0 & 0.0909 & 0.17355 & 0.0824\\\\\n",
      "0 & 0.1472 & 0.2975 & 0.1389\\\\\n",
      "\\end{array}\n",
      "\\right]\\\\\n",
      "\\left[\n",
      "\\begin{array}{ccc|c}\n",
      "1.331 & 1.21 & 1.1 & 1\\\\\n",
      "0 & 0.0909 & 0.17355 & 0.0824\\\\\n",
      "0 & 0.1472 & 0.2975 & 0.1389\\\\\n",
      "\\end{array}\n",
      "\\right] & L_2 \\leftrightarrow L_3 &\n",
      "\\left[\n",
      "\\begin{array}{ccc|c}\n",
      "1.331 & 1.21 & 1.1 & 1\\\\\n",
      "0 & 0.1472 & 0.2975 & 0.1389\\\\\n",
      "0 & 0.0909 & 0.17355 & 0.0824\\\\\n",
      "\\end{array}\n",
      "\\right]\\\\\n",
      "\\left[\n",
      "\\begin{array}{ccc|c}\n",
      "1.331 & 1.21 & 1.1 & 1\\\\\n",
      "0 & 0.1472 & 0.2975 & 0.1389\\\\\n",
      "0 & 0.0909 & 0.17355 & 0.0824\\\\\n",
      "\\end{array}\n",
      "\\right] & - \\frac{0.0909L_2}{0.1472} + L_3 \\rightarrow L_3 &\n",
      "\\left[\n",
      "\\begin{array}{ccc|c}\n",
      "1.331 & 1.21 & 1.1 & 1\\\\\n",
      "0 & 0.1472 & 0.2975 & 0.1389\\\\\n",
      "0 & 0 & -0.0101 & -0.0033\\\\\n",
      "\\end{array}\n",
      "\\right]\\\\\n",
      "\\end{array}\n",
      "$$\n",
      "\n",
      "Solving using back-substitution we obtain the following.\n",
      "\n",
      "$$\n",
      "\\begin{cases}\n",
      "z = \\frac{-0.0033}{-0.0101} = 0.224545454545\\\\\n",
      "y = \\frac{0.1389 - (0.2975 z)}{0.1472} = 0.281363636364\\\\\n",
      "x = \\frac{1 - (1.1z) - (1.21y))}{1.331} = 0.327890909091\\\\\n",
      "\\end{cases}\n",
      "$$\n",
      "\n",
      "We also go through this problem computationally in order to make sure our work is correct."
     ]
    },
    {
     "cell_type": "code",
     "collapsed": false,
     "input": [
      "m = np.array([[0.729, 0.81, 0.9, 0.6867],\n",
      "            [1, 1, 1, 0.8338],\n",
      "            [1.331, 1.21, 1.1, 1]], dtype=np.float64)\n",
      "print('Initial Matrix')\n",
      "print(m)\n",
      "m[[0, 2]] = m[[2, 0]]\n",
      "print('First Pivot')\n",
      "print(m) # Pivot\n",
      "m[1] = m[1] - (m[0] / m[0, 0])\n",
      "print('First Column')\n",
      "print(m)\n",
      "m[2] = m[2] - (m[0] * m[2, 0] / m[0, 0])\n",
      "print(m) # Clear first column\n",
      "m[[1, 2]] = m[[2, 1]]\n",
      "print('Second Pivot')\n",
      "print(m) # Pivot\n",
      "m[2] = m[2] - (m[1] * m[2, 1] / m[1, 1])\n",
      "print('Second Column')\n",
      "print(m) # Clear second column\n",
      "\n",
      "print('Variables')\n",
      "z = m[2, 3] / m[2, 2]\n",
      "y = (m[1, 3] - (z * m[1, 2])) / m[1, 1]\n",
      "x = (m[0, 3] - (z * m[0, 2]) - (y * m[0, 1])) / m[0, 0]\n",
      "\n",
      "print(x, y, z)"
     ],
     "language": "python",
     "metadata": {},
     "outputs": [
      {
       "output_type": "stream",
       "stream": "stdout",
       "text": [
        "Initial Matrix\n",
        "[[ 0.729   0.81    0.9     0.6867]\n",
        " [ 1.      1.      1.      0.8338]\n",
        " [ 1.331   1.21    1.1     1.    ]]\n",
        "First Pivot\n",
        "[[ 1.331   1.21    1.1     1.    ]\n",
        " [ 1.      1.      1.      0.8338]\n",
        " [ 0.729   0.81    0.9     0.6867]]\n",
        "First Column\n",
        "[[ 1.331       1.21        1.1         1.        ]\n",
        " [ 0.          0.09090909  0.17355372  0.0824852 ]\n",
        " [ 0.729       0.81        0.9         0.6867    ]]\n",
        "[[ 1.331       1.21        1.1         1.        ]\n",
        " [ 0.          0.09090909  0.17355372  0.0824852 ]\n",
        " [ 0.          0.14727273  0.29752066  0.13899151]]\n",
        "Second Pivot\n",
        "[[ 1.331       1.21        1.1         1.        ]\n",
        " [ 0.          0.14727273  0.29752066  0.13899151]\n",
        " [ 0.          0.09090909  0.17355372  0.0824852 ]]\n",
        "Second Column\n",
        "[[ 1.331       1.21        1.1         1.        ]\n",
        " [ 0.          0.14727273  0.29752066  0.13899151]\n",
        " [ 0.          0.         -0.01010101 -0.00331203]]\n",
        "Variables\n",
        "0.224545454545 0.281363636364 0.327890909091\n"
       ]
      }
     ],
     "prompt_number": 7
    },
    {
     "cell_type": "markdown",
     "metadata": {},
     "source": [
      "These are the same answers we obtain without partial pivoting because the error is contained even though our matrix is ill-conditioned."
     ]
    },
    {
     "cell_type": "markdown",
     "metadata": {},
     "source": [
      "**4. Write down the $PA = LU$ factorization of the system in problem 1b and use those factors to solve this system:**\n",
      "\n",
      "$$\n",
      "\\left[\n",
      "\\begin{array}{ccc|c}\n",
      "0.729 & 0.81 & 0.9 & 0.7\\\\\n",
      "1 & 1 & 1 & 0.8\\\\\n",
      "1.331 & 1.21 & 1.1 & 1.1\\\\\n",
      "\\end{array}\n",
      "\\right]\n",
      "$$\n",
      "\n",
      "**Do this by hand, in the most efficient way possible. Please explain why LU factorization is a good idea.**\n",
      "\n",
      "We've already done the work for the $PA = LU$ factorization in the prior problem, so now we'll just write it all down.\n",
      "\n",
      "$$\n",
      "\\begin{array}{ccccc}\n",
      "\\left[\n",
      "\\begin{array}{ccc}\n",
      "0 & 0 & 1\\\\\n",
      "1 & 0 & 0\\\\\n",
      "0 & 1 & 0\\\\\n",
      "\\end{array}\n",
      "\\right] &\n",
      "\\left[\n",
      "\\begin{array}{ccc}\n",
      "0.729 & 0.81 & 0.9\\\\\n",
      "1 & 1 & 1\\\\\n",
      "1.331 & 1.21 & 1.1\\\\\n",
      "\\end{array}\n",
      "\\right] &\n",
      "= &\n",
      "\\left[\n",
      "\\begin{array}{ccc}\n",
      "1 & 0 & 0\\\\\n",
      "\\frac{0.729}{1.331} & 1 & 0\\\\\n",
      "\\frac{1}{1.331} & \\frac{0.0909}{0.1472} & 1\\\\\n",
      "\\end{array}\n",
      "\\right] &\n",
      "\\left[\n",
      "\\begin{array}{ccc}\n",
      "1.331 & 1.21 & 1.1\\\\\n",
      "0 & 0.14727273 & 0.29752066\\\\\n",
      "0 & 0 & -0.01010101\\\\\n",
      "\\end{array}\n",
      "\\right]\\\\\n",
      "P & A & = & L & U\\\\\n",
      "\\end{array}\n",
      "$$\n",
      "\n",
      "The big advantage of $PA = LU$ factorization is that it allows one to solve a system who's corresponding $\\vec{A}$ has already been solved, but the corresponding $\\vec{b}$ has changed.\n",
      "\n",
      "We'll now solve the new system."
     ]
    },
    {
     "cell_type": "code",
     "collapsed": false,
     "input": [
      "m = np.array([[1.331, 1.21, 1.1, 0.7],\n",
      "              [0, 0.1472727, 0.29752066, 0.8],\n",
      "              [0, 0, -0.010101, 1.1]])\n",
      "\n",
      "print('Variables')\n",
      "z = m[2, 3] / m[2, 2]\n",
      "y = (m[1, 3] - (z * m[1, 2])) / m[1, 1]\n",
      "x = (m[0, 3] - (z * m[0, 2]) - (y * m[0, 1])) / m[0, 0]\n",
      "\n",
      "print(x, y, z)"
     ],
     "language": "python",
     "metadata": {},
     "outputs": [
      {
       "output_type": "stream",
       "stream": "stdout",
       "text": [
        "Variables\n",
        "-114.412498418 225.432359657 -108.9001089\n"
       ]
      }
     ],
     "prompt_number": 8
    },
    {
     "cell_type": "markdown",
     "metadata": {},
     "source": [
      "**5. What is the difference between Gaussian elimination and the Gauss-Jordan method, in terms of the way they work? Which one is more computationally efficient?**\n",
      "\n",
      "Gaussian Elimination relies on transforming the initial system $\\vec{A}$ into an upper triangular matrix. The Gauss-Jordan method on the other hand fully transforms the matrix in its reduced row echelon form. In terms of computational efficacy, Gaussian elimination requires less work as it relies on the previous step to eliminate work for itself. Fully reducing a system to its reduced form can be computationally expensive as it requires many more steps."
     ]
    }
   ],
   "metadata": {}
  }
 ]
}