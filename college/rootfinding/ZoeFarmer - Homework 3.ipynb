{
 "metadata": {
  "name": "",
  "signature": "sha256:50f4b571b8d44f37efb23ee20398aed78cb75e6eeb15790e727c7b1c9eeeefe2"
 },
 "nbformat": 3,
 "nbformat_minor": 0,
 "worksheets": [
  {
   "cells": [
    {
     "cell_type": "code",
     "collapsed": false,
     "input": [
      "import numpy as np\n",
      "import matplotlib.pyplot as plt\n",
      "import scipy.misc as sm\n",
      "\n",
      "%pylab inline"
     ],
     "language": "python",
     "metadata": {},
     "outputs": [
      {
       "output_type": "stream",
       "stream": "stdout",
       "text": [
        "Populating the interactive namespace from numpy and matplotlib\n"
       ]
      }
     ],
     "prompt_number": 4
    },
    {
     "cell_type": "markdown",
     "metadata": {},
     "source": [
      "**1. Newton's method for finding roots.**\n",
      "\n",
      "**Write a program that finds a root of the function $f(x) = x^2 - 1$ using Newton's method starting from the initial guess $x = -2$. Note the number of iterations required to get $f(x) < 0.0001$.**\n",
      "\n",
      "We first write a generic Newton's Method Solver."
     ]
    },
    {
     "cell_type": "code",
     "collapsed": false,
     "input": [
      "def newtonsmethod(f, x0, steps, precision=1e-4):\n",
      "    m = np.zeros(steps)\n",
      "    m[0] = x0\n",
      "    for i in range(1, steps):\n",
      "        m[i] = m[i - 1] - (f(m[i - 1]) / sm.derivative(f, m[i - 1]))\n",
      "        if np.abs(f(m[i])) < precision:\n",
      "            break\n",
      "    return m[i], len(np.nonzero(m)[0])"
     ],
     "language": "python",
     "metadata": {},
     "outputs": [],
     "prompt_number": 33
    },
    {
     "cell_type": "markdown",
     "metadata": {},
     "source": [
      "Now we plug in our equation and initial guess."
     ]
    },
    {
     "cell_type": "code",
     "collapsed": false,
     "input": [
      "f = lambda x: x**2 - 1\n",
      "\n",
      "root, iterations = newtonsmethod(f, -2, 1000)\n",
      "\n",
      "print(root, iterations, f(root))"
     ],
     "language": "python",
     "metadata": {},
     "outputs": [
      {
       "output_type": "stream",
       "stream": "stdout",
       "text": [
        "-1.00000004646 5 9.29222969681e-08\n"
       ]
      }
     ],
     "prompt_number": 34
    },
    {
     "cell_type": "markdown",
     "metadata": {},
     "source": [
      "**Modify your program to find a root of the function $f(x) = x^3 + x^2 - x - 1$ using Newton's method starting from the inital guess of $x = -2$. Again, note the number of iterations.**\n",
      "\n",
      "This is simply plugging it in."
     ]
    },
    {
     "cell_type": "code",
     "collapsed": false,
     "input": [
      "f = lambda x: x**3 + x**2 - x - 1\n",
      "\n",
      "root, iterations = newtonsmethod(f, -2, 1000)\n",
      "\n",
      "print(root, iterations, f(root))"
     ],
     "language": "python",
     "metadata": {},
     "outputs": [
      {
       "output_type": "stream",
       "stream": "stdout",
       "text": [
        "-1.00697705916 77 -9.76983477896e-05\n"
       ]
      }
     ],
     "prompt_number": 35
    },
    {
     "cell_type": "markdown",
     "metadata": {},
     "source": [
      "**Compare the time-to-convergence values that you determined in the first two parts of this problem for Newton's method on these two polynomials. Are these numbers consistent with what you know about the theoretical convergence rates of this method?**\n",
      "\n",
      "These numbers are consistent, as Newton's Method has quadratic convergence."
     ]
    },
    {
     "cell_type": "markdown",
     "metadata": {},
     "source": [
      "**Draw a function $f(x)$ that has exactly one root, but one that Newton's method won't be able to find from a subset of initial guesses. Explain why that happens.**\n",
      "\n",
      "Using the equation $f(x) = x^{1/4}$, we can plug it in to our solver."
     ]
    },
    {
     "cell_type": "code",
     "collapsed": false,
     "input": [
      "f = lambda x: x**(1 / 4)\n",
      "\n",
      "plt.plot(np.arange(0, 3, 0.01), f(np.arange(0, 3, 0.01)))\n",
      "plt.show()\n",
      "\n",
      "root, iterations = newtonsmethod(f, 1, 1000)\n",
      "\n",
      "print(root, iterations, f(root))"
     ],
     "language": "python",
     "metadata": {},
     "outputs": [
      {
       "metadata": {},
       "output_type": "display_data",
       "png": "[encoded data removed]",
       "text": [
        "<matplotlib.figure.Figure at 0x7ff17fcea160>"
       ]
      },
      {
       "output_type": "stream",
       "stream": "stdout",
       "text": [
        "nan 1000 nan\n"
       ]
      }
     ],
     "prompt_number": 39
    },
    {
     "cell_type": "markdown",
     "metadata": {},
     "source": [
      "This diverges because the behavior near $x = 0$ causes our solver to overshoot as the slope of the line at that point is infinite."
     ]
    },
    {
     "cell_type": "markdown",
     "metadata": {},
     "source": [
      "**2. Explain what it means for a rootfinder to be quadratically convergent.**\n",
      "\n",
      "If a rootfinder is quadratically convergent than this means that there exists some $C$ such that the following inequality holds.\n",
      "\n",
      "$$\n",
      "| x_{n + 1} - r | \\le C {| x_n - r |}^2\n",
      "$$"
     ]
    },
    {
     "cell_type": "markdown",
     "metadata": {},
     "source": [
      "**3. Linear Algebra**\n",
      "\n",
      "**Give an example linear function.**\n",
      "\n",
      "$$ f(x) = x $$\n",
      "\n",
      "** Give an example non-linear function.**\n",
      "\n",
      "$$ f(x) = x^2 $$\n",
      "\n",
      "** If the matrix $A$ is $n \\times n$, what shape do $\\vec{x}$ and $\\vec{b}$ have to be in order for the matrix equation $A \\vec{x} = \\vec{b}$ to make sense?**\n",
      "\n",
      "$\\vec{x}$ and $\\vec{b}$ both have to be $n \\times 1$.\n",
      "\n",
      "**If the $n \\times n$ matrix $A$ is nonsingular, how many possible solutions are there to the set of $n$ linear equations $A \\vec{x} = \\vec{b}$?**\n",
      "\n",
      "There will be one possible solution vector.\n",
      "\n",
      "**If $A^{-1}$ does not exist, what must be true of $|A|$?**\n",
      "\n",
      "$|A|$ must equal zero.\n",
      "\n",
      "**Write a program to multiply these two matrices.**\n",
      "\n",
      "$$\n",
      "\\left[ \\begin{array}{cc}\n",
      "1 & 2\\\\\n",
      "3 & 4\n",
      "\\end{array}\\right]\n",
      "\\cdot\n",
      "\\left[ \\begin{array}{cc}\n",
      "3 & 4\\\\\n",
      "2 & 1\n",
      "\\end{array}\\right]\n",
      "$$"
     ]
    },
    {
     "cell_type": "code",
     "collapsed": false,
     "input": [
      "numpy.dot(np.array([[1, 2], [3, 4]]), np.array([[3, 4], [2, 1]]))"
     ],
     "language": "python",
     "metadata": {},
     "outputs": [
      {
       "metadata": {},
       "output_type": "pyout",
       "prompt_number": 40,
       "text": [
        "array([[ 7,  6],\n",
        "       [17, 16]])"
       ]
      }
     ],
     "prompt_number": 40
    },
    {
     "cell_type": "code",
     "collapsed": false,
     "input": [],
     "language": "python",
     "metadata": {},
     "outputs": []
    }
   ],
   "metadata": {}
  }
 ]
}