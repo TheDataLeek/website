{
 "cells": [
  {
   "cell_type": "markdown",
   "metadata": {
    "slideshow": {
     "slide_type": "slide"
    }
   },
   "source": [
    "# Political Boundaries and Simulations\n",
    "\n",
    "## Zoë Farmer"
   ]
  },
  {
   "cell_type": "markdown",
   "metadata": {
    "collapsed": true,
    "slideshow": {
     "slide_type": "subslide"
    }
   },
   "source": [
    "# Who am I?\n",
    "\n",
    "* My name is Zoë Farmer\n",
    "* I'm a recent CU graduate with a BS in Applied Math and a CS Minor\n",
    "* I'm a co-coordinator of the Boulder Python Meetup\n",
    "* I'm a big fan of open source software\n",
    "* I'm looking for work (pls hire me)\n",
    "* http://www.dataleek.io\n",
    "* [@TheDataLeek](http://www.twitter.com/thedataleek)\n",
    "* [github.com/thedataleek](http://github.com/thedataleek)\n",
    "* [gitlab.com/thedataleek](http://gitlab.com/thedataleek)"
   ]
  },
  {
   "cell_type": "markdown",
   "metadata": {
    "collapsed": true,
    "slideshow": {
     "slide_type": "subslide"
    }
   },
   "source": [
    "# What are we talking about?\n",
    "\n",
    "In this presentation I'll discuss two numerical approaches to solving political boundaries while striving to avoid gerrymandering.\n",
    "\n",
    "This is mainly an exploration, and since the final results can be finnicky, this analysis should be taken with a grain of salt...\n",
    "\n",
    "Slides, code, and images are available here if you want to follow along.\n",
    "\n",
    "http://bit.ly/2xvaHnX\n",
    "\n",
    "or\n",
    "\n",
    "http://dataleek.io/presentations/politicalboundaries"
   ]
  },
  {
   "cell_type": "markdown",
   "metadata": {
    "slideshow": {
     "slide_type": "slide"
    }
   },
   "source": [
    "# Our Algorithms\n",
    "\n",
    "We're talking about two different numerical methods that obtain \"close-enough\" solutions.\n",
    "\n",
    "Closed form solutions aren't always possible to obtain, so we can get one that's numerically close to solving our hard problem.\n",
    "\n",
    "* [Simulated Annealing](https://en.wikipedia.org/wiki/Simulated_annealing)\n",
    "    * Minor permutations in a given solution until we find a solution that's slightly better, and repeat.\n",
    "* [Genetic Algorithm](https://en.wikipedia.org/wiki/Genetic_algorithm)\n",
    "    * Create a ton of random solutions, have them \"combine\" and take the best of their children."
   ]
  },
  {
   "cell_type": "markdown",
   "metadata": {
    "slideshow": {
     "slide_type": "subslide"
    }
   },
   "source": [
    "# Simulated Annealing\n",
    "\n",
    "1. Generate a random solution\n",
    "2. Generate a \"neighboring solution\" to our generated solution\n",
    "3. Keep whichever is better, or (with decaying probability) take the new one regardless\n",
    "4. Go back to 2 or eventually stop\n",
    "\n",
    "<img src=\"./img/simulatedannealingdiagram.png\" style=\"width: 50%\"/>"
   ]
  },
  {
   "cell_type": "markdown",
   "metadata": {
    "slideshow": {
     "slide_type": "subslide"
    }
   },
   "source": [
    "# Genetic Algorithm\n",
    "\n",
    "1. Randomly generate an initial population of solutions\n",
    "2. Use our solution population to generate some large number of children (note,\n",
    "   these children should inherit properties from their parents). Add mutation to avoid inbreeding.\n",
    "3. Keep the best of our total population\n",
    "4. Go back to 2 or eventually stop\n",
    "\n",
    "<img src=\"./img/geneticalgorithmdiagram.png\" />"
   ]
  },
  {
   "cell_type": "markdown",
   "metadata": {
    "slideshow": {
     "slide_type": "subslide"
    }
   },
   "source": [
    "# Why Python?\n",
    "\n",
    "* Entire codebase is in Python3.6\n",
    "    * f-strings are slick\n",
    "    * Typing is nifty\n",
    "    * Faster\n",
    "    * Backwards compatible with Python3.5, so we can use pypy if we want\n",
    "* Numerical analysis is great in python\n",
    "    * Bindings to fortran libs => very fast\n",
    "    * Easy to work with/code in\n",
    "    * Offers many advanced math capabilities (FFT, ODE, etc.)"
   ]
  },
  {
   "cell_type": "markdown",
   "metadata": {
    "slideshow": {
     "slide_type": "subslide"
    }
   },
   "source": [
    "# Libraries\n",
    "\n",
    "    # stdlib imports\n",
    "    import sys       # exits and calls\n",
    "    import os        # path manipulation\n",
    "    import argparse  # argument handling\n",
    "    import math      # exponent - faster than numpy for this\n",
    "    import random    # built-in random func\n",
    "    import re        # dynamically pull out algo names\n",
    "    import queue     # used for SCC labelling\n",
    "\n",
    "    # typing\n",
    "    from typing import Union\n",
    "\n",
    "    # third-party imports\n",
    "    import numpy as np                       # heavy lifting\n",
    "    import matplotlib.pyplot as plt          # visualization\n",
    "    import matplotlib.animation as animation # animation\n",
    "    from moviepy import editor               # More gif\n",
    "    from tqdm import tqdm                    # Progress bars are nice\n",
    "    from halo import Halo                    # Spinner"
   ]
  },
  {
   "cell_type": "markdown",
   "metadata": {
    "slideshow": {
     "slide_type": "slide"
    }
   },
   "source": [
    "# Drawing Political District Boundaries\n",
    "\n",
    "How can this be applied to political boundaries?\n",
    "\n",
    "Assumptions:\n",
    "* 2 parties\n",
    "* Rectangular areas\n",
    "* Provided in a specific format\n",
    "* These examples are in $8\\times8$ grid, with 8 districts.\n",
    "* Equal density squares, not population. \"Voting Units\"\n",
    "```\n",
    "D R D R D R R R\n",
    "D D R D R R R R\n",
    "D D D R R R R R\n",
    "D D R R R R D R\n",
    "R R D D D R R R\n",
    "R D D D D D R R\n",
    "R R R D D D D D\n",
    "D D D D D D R D\n",
    "```"
   ]
  },
  {
   "cell_type": "markdown",
   "metadata": {
    "slideshow": {
     "slide_type": "subslide"
    }
   },
   "source": [
    "Which can be plotted for readability.\n",
    "\n",
    "<img src=\"./img/smallState_initial.png\" style=\"width: 50%\">"
   ]
  },
  {
   "cell_type": "markdown",
   "metadata": {
    "slideshow": {
     "slide_type": "slide"
    }
   },
   "source": [
    "# Related Problems to Solve First"
   ]
  },
  {
   "cell_type": "markdown",
   "metadata": {
    "slideshow": {
     "slide_type": "subslide"
    }
   },
   "source": [
    "## Finding Neighbors of a Point\n",
    "\n",
    "Our first big problem is how we find neighbors of a single point. For any `(y, x)` pair we can express its neighbors using the following algorithm.\n",
    "\n",
    "1. Iterate over range(-1, 2) for both x and y\n",
    "2. For each loop, accept (y + yi, x + xi) if the following conditions hold:\n",
    "    * y + yi is within the range of the field\n",
    "    * x + xi is within our domain of the field\n",
    "    * xi and yi are not both equal to zero"
   ]
  },
  {
   "cell_type": "markdown",
   "metadata": {
    "slideshow": {
     "slide_type": "subslide"
    }
   },
   "source": [
    "## Determining if a District is Valid\n",
    "\n",
    "How do we determine valid solutions?\n",
    "\n",
    "* Connected squares (diagonals count)\n",
    "* Think of these as single connected components\n",
    "* We can use [connected component labelling](https://en.wikipedia.org/wiki/Connected-component_labeling). (from wikipedia)\n",
    "\n",
    "## Valid Solutions?\n",
    "\n",
    "* Made up of valid districts\n",
    "* No missing (not accounted for) squares\n",
    "* All districts accounted for."
   ]
  },
  {
   "cell_type": "markdown",
   "metadata": {
    "slideshow": {
     "slide_type": "subslide"
    }
   },
   "source": [
    "## Finding District Neighbors\n",
    "\n",
    "* Need to find all neighbors of a given district\n",
    "* Super similar to connected component labelling\n",
    "\n",
    "The basic algorithm is as follows.\n",
    "\n",
    "1. Get a random spot inside the given district\n",
    "2. Add this spot to a Queue\n",
    "3. Initialize an empty labelling array (as with connected component labelling)\n",
    "4. While the queue is not empty, get an new `(y, x)` pair.\n",
    "5. If the point falls within the district, get all of the point's neighbors, add them to the queue, and go back to (4)\n",
    "6. If the point does not fall into the district, add it to the list of district neighbors."
   ]
  },
  {
   "cell_type": "markdown",
   "metadata": {
    "slideshow": {
     "slide_type": "slide"
    }
   },
   "source": [
    "## Fitness Functions\n",
    "\n",
    "For both these algorithms we talk about their \"value\", which in this case is determined with a fitness function.\n",
    "> A fitness function is a particular type of objective function that is used to summarise, as a single figure of merit, how close a given design solution is to achieving the set aims. (wikipedia)\n",
    "\n",
    "TL;DR a single number that basically tells us how \"good\" of a solution we have."
   ]
  },
  {
   "cell_type": "markdown",
   "metadata": {
    "slideshow": {
     "slide_type": "subslide"
    }
   },
   "source": [
    "Taking a step back from the code and considering the real world, let's think about what we'd ideally like to emphasize in a political districting system.\n",
    "\n",
    "* We'd want districts to be homogeneous.\n",
    "    * Either want a district to be all `R` or all `D`.\n",
    "* We want our district ratios to approximately match our population ratios.\n",
    "    * If our population is 50% `R`, we want 50% `R` majority districts\n",
    "* We'd want to avoid [gerrymandering](https://en.wikipedia.org/wiki/Gerrymandering)\n",
    "<div style=\"display: inline-flex;\">\n",
    "<img src=\"./img/gerrymandering_example.jpg\" style=\"width: 300px; height: 200px;\"/>\n",
    "<img src=\"./img/gerrymandering.png\" style=\"width: 300px; height: 200px;\"/>\n",
    "</div>\n",
    "\n",
    "* We want all districts to be around the same population size.\n",
    "    * In our example, $8 \\times 8$ grid would mean that each district should be around 8 squares."
   ]
  },
  {
   "cell_type": "markdown",
   "metadata": {
    "slideshow": {
     "slide_type": "subslide"
    }
   },
   "source": [
    "Translated to our code these priorities become\n",
    "\n",
    "1. Validity of solution\n",
    "2. Make sure the ratio of `R` to `D` majority districts matches the ratio of `R` to `D` in the general population.\n",
    "3. Make sure each district is as homogeneous as possible\n",
    "4. Reduce the value of the district if its size isn't close to the \"ideal size\", which is `total_size / num_districts`.\n",
    "5. We also take into account that in non-homogeneous districts voters that aren't affiliated with the majority party might be swayed by targeted campaigns. To this effect we account each non-affiliated \"zone\" with a weight of -0.9 instead of -1.\n",
    "6. Finally, we can also minimize edge length as well as trying to keep each district the same size. This will result in hopefully ideal districts"
   ]
  },
  {
   "cell_type": "markdown",
   "metadata": {
    "slideshow": {
     "slide_type": "slide"
    }
   },
   "source": [
    "## Generating Random Solutions\n",
    "\n",
    "This algorithm is very straightforward.\n",
    "\n",
    "1. Generate a number of \"spawn points\" equal to the number of districts.\n",
    "2. Fill.\n",
    "\n",
    "The fill algorithm is also straightforward.\n",
    "\n",
    "1. Set a list of available districts.\n",
    "2. While there are any non-set points, pick a random district, `i`, from the list of available districts.\n",
    "3. Get a list of all neighbors of the district, but filter to only 0-valued entries.\n",
    "4. If no such neighbors exist, remove this district from the list of available districts.\n",
    "5. Otherwise pick a neighbor at random and set it to `i`.\n",
    "6. Loop back to (2)."
   ]
  },
  {
   "cell_type": "markdown",
   "metadata": {
    "slideshow": {
     "slide_type": "subslide"
    }
   },
   "source": [
    "<img src=\"./img/generate_random_solution_smallState.gif\" style=\"width: 50%;\">"
   ]
  },
  {
   "cell_type": "markdown",
   "metadata": {
    "slideshow": {
     "slide_type": "slide"
    }
   },
   "source": [
    "# Simulated Annealing\n",
    "\n",
    "Recall:\n",
    "\n",
    "1. Generate a random solution\n",
    "2. Generate a solution neighbor\n",
    "3. If the new solution is better than the old, set the current solution to the new one.\n",
    "4. Sometimes accept a worse solution"
   ]
  },
  {
   "cell_type": "markdown",
   "metadata": {
    "slideshow": {
     "slide_type": "subslide"
    }
   },
   "source": [
    "## Mutations\n",
    "\n",
    "Simulated Annealing relies on \"mutating\" solutions via the following algorithm.\n",
    "\n",
    "1. Find all district neighbors\n",
    "2. Pick a neighboring point at random.\n",
    "3. If the neighboring point's district has at least size 2, set this neighboring point to our district.\n",
    "4. Otherwise, pick a different neighboring point."
   ]
  },
  {
   "cell_type": "markdown",
   "metadata": {
    "slideshow": {
     "slide_type": "subslide"
    }
   },
   "source": [
    "Which can be visualized as follows.\n",
    "\n",
    "<img src=\"./img/mutation.png\" style=\"width: 70%\">"
   ]
  },
  {
   "cell_type": "markdown",
   "metadata": {
    "slideshow": {
     "slide_type": "subslide"
    }
   },
   "source": [
    "The entire process looks like this:\n",
    "\n",
    "<img src=\"./img/simulated_annealing_solution_smallState.gif\" style=\"width: 50%\">"
   ]
  },
  {
   "cell_type": "markdown",
   "metadata": {
    "slideshow": {
     "slide_type": "subslide"
    }
   },
   "source": [
    "Which has the following final solution.\n",
    "\n",
    "<div style=\"display: inline-flex;\">\n",
    "<img src=\"./img/smallState_initial.png\" style=\"width: 50%\">\n",
    "<img src=\"./img/simulated_annealing_solution_smallState.png\" style=\"width: 50%\">\n",
    "</div>"
   ]
  },
  {
   "cell_type": "markdown",
   "metadata": {
    "slideshow": {
     "slide_type": "slide"
    }
   },
   "source": [
    "# Genetic Algorithms\n",
    "\n",
    "Recall:\n",
    "\n",
    "1. Randomly generate an initial population of solutions\n",
    "2. Use our solution population to generate some large number of children (note,\n",
    "   these children should inherit properties from their parents)\n",
    "3. Keep the best of our total population\n",
    "4. Go back to 2 or eventually stop"
   ]
  },
  {
   "cell_type": "markdown",
   "metadata": {
    "slideshow": {
     "slide_type": "subslide"
    }
   },
   "source": [
    "# Mutations\n",
    "\n",
    "1. Shuffle the parents\n",
    "2. Shuffle the districts\n",
    "3. Overlay and connect similar districts to create a child"
   ]
  },
  {
   "cell_type": "markdown",
   "metadata": {
    "slideshow": {
     "slide_type": "subslide"
    }
   },
   "source": [
    "Which can be visualized as follows.\n",
    "\n",
    "<img src=\"./img/combine.gif\" style=\"width: 50%\">"
   ]
  },
  {
   "cell_type": "markdown",
   "metadata": {
    "slideshow": {
     "slide_type": "subslide"
    }
   },
   "source": [
    "This process looks like this\n",
    "\n",
    "<img src=\"./img/genetic_algorithm_solution_smallState.gif\" style=\"width: 50%\">"
   ]
  },
  {
   "cell_type": "markdown",
   "metadata": {
    "slideshow": {
     "slide_type": "subslide"
    }
   },
   "source": [
    "With corresponding final solution\n",
    "\n",
    "<div style=\"display: inline-flex;\">\n",
    "<img src=\"./img/smallState_initial.png\" style=\"width: 50%\">\n",
    "<img src=\"./img/genetic_algorithm_solution_smallState.png\" style=\"width: 50%\">\n",
    "</div>"
   ]
  },
  {
   "cell_type": "markdown",
   "metadata": {
    "slideshow": {
     "slide_type": "slide"
    }
   },
   "source": [
    "# Comparisons\n",
    "\n",
    "<div style=\"display: inline-flex;\">\n",
    "<img src=\"./img/simulated_annealing_values.png\" />\n",
    "<img src=\"./img/genetic_algorithm_values.png\" />\n",
    "</div>"
   ]
  },
  {
   "cell_type": "markdown",
   "metadata": {
    "slideshow": {
     "slide_type": "subslide"
    }
   },
   "source": [
    "<div style=\"display: inline-flex;\">\n",
    "<img src=\"./img/simulated_annealing_solution_smallState.png\" style=\"width: 30%; height: 10em;\"/>\n",
    "<img src=\"./img/smallState_initial.png\" style=\"width: 30%; height: 10em;\" />\n",
    "<img src=\"./img/genetic_algorithm_solution_smallState.png\" style=\"width: 30%; height: 10em;\" />\n",
    "</div>"
   ]
  },
  {
   "cell_type": "markdown",
   "metadata": {
    "slideshow": {
     "slide_type": "slide"
    }
   },
   "source": [
    "# Final Thoughts\n",
    "\n",
    "* They're both unique approaches that can be applied to incredibly complex problems\n",
    "* However much of their success hinges on the effectiveness of your fitness function\n",
    "* Any given \"final solution\" is somewhat unique, or at the very least improbable to obtain again"
   ]
  },
  {
   "cell_type": "markdown",
   "metadata": {
    "slideshow": {
     "slide_type": "slide"
    }
   },
   "source": [
    "# Using the Code (Live Demo?)\n",
    "\n",
    "This is straightforward! After installing the required libraries (check [the repository](https://gitlab.com/thedataleek/politicalboundaries)) just run\n",
    "\n",
    "```bash\n",
    "$ python3.6 ./politicalboundaries.py $FILE_TO_RUN\n",
    "```\n",
    "\n",
    "If you want to dig a little deeper, use the `-h` flag to see what it can do, but\n",
    "here's a short list as well.\n",
    "\n",
    "* Use Simulated Annealing on the file\n",
    "* Use the Genetic Algorithm on the file\n",
    "* Set the number of districts for either solution type\n",
    "* Set the precision (number of runs) for either algorithm\n",
    "* Animate the solution process\n",
    "* Create gifs of the solution process (otherwise just `.mp4`)\n",
    "* Generate report (`README.md`) assets.\n",
    "* Do all of the above in one go."
   ]
  },
  {
   "cell_type": "markdown",
   "metadata": {
    "slideshow": {
     "slide_type": "slide"
    }
   },
   "source": [
    "# Next Steps\n",
    "\n",
    "I want to do more for this project but I'm limited in the time I have. I do have\n",
    "a couple of ideas for next steps however.\n",
    "\n",
    "* Generalizing for more than 2 parties\n",
    "* Testing Robustness against hostile inputs\n",
    "* Parallelizing - Instead of just running simulations on a single thread, we could theoretically spin up a bunch of different threads and run simulations on them simultaneously, only keeping the best of all trials.\n",
    "* Real Data - It would be amazing to take the approaches used in this writeup and apply it to real-world political data."
   ]
  },
  {
   "cell_type": "markdown",
   "metadata": {
    "slideshow": {
     "slide_type": "slide"
    }
   },
   "source": [
    "# Questions?\n",
    "\n",
    "* Follow me on Twitter [@TheDataLeek](https://twitter.com/thedataleek)\n",
    "* Check out slides on my website, [http://dataleek.io](http://dataleek.io)"
   ]
  },
  {
   "cell_type": "markdown",
   "metadata": {
    "slideshow": {
     "slide_type": "slide"
    }
   },
   "source": [
    "# Appendix"
   ]
  },
  {
   "cell_type": "markdown",
   "metadata": {
    "slideshow": {
     "slide_type": "subslide"
    }
   },
   "source": [
    "# Simulated Annealing"
   ]
  },
  {
   "cell_type": "code",
   "execution_count": 1,
   "metadata": {},
   "outputs": [],
   "source": [
    "def simulated_annealing(system, numdistricts, precision, animate, makegif):\n",
    "    \"\"\"\n",
    "    Perform simulated annealing on our system with a series of progressively\n",
    "    improving solutions.\n",
    "    \"\"\"\n",
    "    solution = get_good_start(system, numdistricts)\n",
    "    history = [solution]  # Keep track of our history\n",
    "    k = 0.25  # Larger k => more chance of randomly accepting\n",
    "    Tvals = np.arange(1, 1e-12, -1.0 / precision)\n",
    "    print(f'Running Simulated Annealing with k={k:0.03f}, alpha={1.0 / precision:0.05f}')\n",
    "    for i, T in tqdm(enumerate(Tvals), total=len(Tvals)):\n",
    "        new_solution = solution.copy()  # copy our current solution\n",
    "        new_solution.mutate()  # Mutate the copy\n",
    "        # TODO: Speed this up by keeping current value\n",
    "        dv = new_solution.value - solution.value  # Look at delta of values\n",
    "        # If it's better, or random chance, we accept it\n",
    "        if dv > 0 or random.random() < math.exp(dv / (k * T)):\n",
    "            solution = new_solution\n",
    "            history.append(new_solution)\n",
    "\n",
    "    solution.count = len(Tvals)\n",
    "    solution.algo = 'Simulated Annealing'\n",
    "    print(solution)\n",
    "    print(solution.summary())\n",
    "\n",
    "    if animate:\n",
    "        animate_history(system.filename, system.matrix,\n",
    "                        history, solution.numdistricts,\n",
    "                        makegif)"
   ]
  },
  {
   "cell_type": "markdown",
   "metadata": {
    "slideshow": {
     "slide_type": "subslide"
    }
   },
   "source": [
    "# Genetic Algorithm"
   ]
  },
  {
   "cell_type": "code",
   "execution_count": 2,
   "metadata": {},
   "outputs": [],
   "source": [
    "def genetic_algorithm(system, numdistricts, precision, animate, makegif):\n",
    "    \"\"\"\n",
    "    Use a genetic algorithm to find a good solution to our district problem\n",
    "    \"\"\"\n",
    "    # Start with random initial solution space (3)\n",
    "    solutions = [Solution(system, numdistricts) for _ in range(3)]\n",
    "    for s in solutions:\n",
    "        s.generate_random_solution()  # Initialize our solutions\n",
    "    top_history = []  # Keep history of our top solution from each \"frame\"\n",
    "    for i in tqdm(range(precision)):\n",
    "        new_solutions = []\n",
    "        for _ in range(10):  # Create 10 children per frame\n",
    "            s1, s2 = np.random.choice(solutions, size=2)\n",
    "            # Randomly combine two parents\n",
    "            new_solutions.append(s1.combine(s2))\n",
    "        # Combine everything, giving 13 total solutions\n",
    "        full_solutions = new_solutions + solutions\n",
    "        # Keep the top 3 for next generation\n",
    "        solutions = [_[0] for _ in\n",
    "                     sorted([(s, s.value) for s in full_solutions],\n",
    "                            key=lambda tup: -tup[1])[:3]]\n",
    "        # Only record top from generation, and only if it's changed\n",
    "        if len(top_history) == 0 or solutions[0] != top_history[-1]:\n",
    "            top_history.append(solutions[0])\n",
    "\n",
    "    solution = top_history[-1]\n",
    "    solution.count = precision\n",
    "    solution.algo = 'Genetic Algorithm'\n",
    "    print(solution)\n",
    "    print(solution.summary())\n",
    "\n",
    "    if animate:\n",
    "        animate_history(system.filename, system.matrix,\n",
    "                        top_history, solution.numdistricts,\n",
    "                        makegif)"
   ]
  },
  {
   "cell_type": "markdown",
   "metadata": {
    "slideshow": {
     "slide_type": "subslide"
    }
   },
   "source": [
    "## How much does choice of `k` impact solution selection?\n",
    "\n",
    "<img src=\"./img/kvals.png\" style=\"width: 50%;\">"
   ]
  },
  {
   "cell_type": "markdown",
   "metadata": {
    "slideshow": {
     "slide_type": "subslide"
    }
   },
   "source": [
    "## Code Structure"
   ]
  },
  {
   "cell_type": "markdown",
   "metadata": {
    "slideshow": {
     "slide_type": "-"
    }
   },
   "source": [
    "    ▼ Mask : class\n",
    "       +__init__ : function\n",
    "       -__str__ : function\n",
    "      ▼+get_labels : function\n",
    "         +unlabelled : function\n",
    "       +is_valid : function\n",
    "       +location : function\n",
    "       +make_valid : function\n",
    "       +overlap : function\n",
    "       +parse_list : function\n",
    "       +parse_locations : function\n",
    "       +size : function\n",
    "\n",
    "    ▼ Solution : class\n",
    "       -__eq__ : function\n",
    "       -__getitem__ : function\n",
    "       +__init__ : function\n",
    "       -__ne__ : function\n",
    "       -__str__ : function\n",
    "       +combine : function\n",
    "       +copy : function\n",
    "       +fill : function\n",
    "       +generate_random_solution : function\n",
    "       +get_district_neighbors : function\n",
    "       +get_filtered_district_neighbors : function\n",
    "       +get_full_openspots : function\n",
    "       +get_neighbors : function\n",
    "       +get_random_openspot : function\n",
    "       +get_solution : function\n",
    "       +height : function\n",
    "       +is_valid : function\n",
    "       +majorities : function\n",
    "       +majority : function\n",
    "       +mutate : function\n",
    "       +show : function\n",
    "       +summary : function\n",
    "       +value : function\n",
    "       +width : function\n",
    "\n",
    "    ▼ System : class\n",
    "       -__getitem__ : function\n",
    "       +__init__ : function\n",
    "       +_name_arr : function\n",
    "       +_read_file : function\n",
    "       +empty_state : function\n",
    "       +height : function\n",
    "       +stats : function\n",
    "       +width : function\n",
    "\n",
    "    ▼+animate_history : function\n",
    "       +update_plot : function\n",
    "\n",
    "    ▼+generate_report_assets : function\n",
    "       +update : function\n",
    "\n",
    "     +genetic_algorithm : function\n",
    "\n",
    "     +get_args : function\n",
    "\n",
    "     +get_good_start : function\n",
    "\n",
    "     +main : function\n",
    "\n",
    "     +simulated_annealing : function\n",
    "\n",
    "    ▼ variables\n",
    "        FIGSIZE\n",
    "        OUTDIR"
   ]
  },
  {
   "cell_type": "code",
   "execution_count": null,
   "metadata": {},
   "outputs": [],
   "source": []
  }
 ],
 "metadata": {
  "celltoolbar": "Slideshow",
  "kernelspec": {
   "display_name": "Python 3",
   "language": "python",
   "name": "python3"
  },
  "language_info": {
   "codemirror_mode": {
    "name": "ipython",
    "version": 3
   },
   "file_extension": ".py",
   "mimetype": "text/x-python",
   "name": "python",
   "nbconvert_exporter": "python",
   "pygments_lexer": "ipython3",
   "version": "3.6.3"
  }
 },
 "nbformat": 4,
 "nbformat_minor": 2
}
