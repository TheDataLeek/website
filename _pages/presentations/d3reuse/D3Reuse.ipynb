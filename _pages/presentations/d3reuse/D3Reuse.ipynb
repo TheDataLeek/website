{
 "cells": [
  {
   "cell_type": "markdown",
   "metadata": {
    "slideshow": {
     "slide_type": "slide"
    }
   },
   "source": [
    "# Establishing Reusable Code\n",
    "## Zoë Farmer\n",
    "\n",
    "*Made with ES6, D3, Jupyter, Reveal.js*"
   ]
  },
  {
   "cell_type": "markdown",
   "metadata": {
    "slideshow": {
     "slide_type": "slide"
    }
   },
   "source": [
    "# Who am I\n",
    "\n",
    "* My name is Zoë Farmer\n",
    "* CU graduate with a BS in Applied Math and a CS Minor\n",
    "* I'm a co-coordinator of the Boulder Python Meetup\n",
    "* I'm a big fan of open source software\n",
    "* http://www.dataleek.io\n",
    "* @TheDataLeek, github.com/thedataleek, gitlab.com/thedataleek\n",
    "* D3 Data Visualizer at Talus Analytics - http://www.talusanalytics.com"
   ]
  },
  {
   "cell_type": "markdown",
   "metadata": {
    "slideshow": {
     "slide_type": "slide"
    }
   },
   "source": [
    "# What's the problem?\n",
    "\n",
    "* D3 doesn't have the popularity of Node, Angular, Python, `<insert popular framework here>`, etc.\n",
    "* Documentation can be sparse.\n",
    "* Most of us (myself included) learn from terse [bl.ocks.org](https://bl.ocks.org) demos.\n",
    "* Because of this, most D3 code tends to be *write-only*.\n",
    "\n",
    "### TL;DR -- D3 doesn't lend itself to reuse"
   ]
  },
  {
   "cell_type": "markdown",
   "metadata": {
    "slideshow": {
     "slide_type": "slide"
    }
   },
   "source": [
    "# Example - Scatterplot\n",
    "\n",
    "![png](google.png)"
   ]
  },
  {
   "cell_type": "markdown",
   "metadata": {
    "slideshow": {
     "slide_type": "slide"
    }
   },
   "source": [
    "# And the code?\n",
    "\n",
    "http://bl.ocks.org/weiglemc/6185069\n",
    "\n",
    "<img src=\"defaultscatter.png\" style=\"height: 500px\"/>"
   ]
  },
  {
   "cell_type": "markdown",
   "metadata": {
    "slideshow": {
     "slide_type": "slide"
    }
   },
   "source": [
    "# So what can we do?\n",
    "\n",
    "* Use classes\n",
    "* Separate interaction from drawing\n",
    "* Write with reuse in mind"
   ]
  },
  {
   "cell_type": "markdown",
   "metadata": {
    "slideshow": {
     "slide_type": "slide"
    }
   },
   "source": [
    "# Use Classes\n",
    "```javascript\n",
    "class Chart {\n",
    "    constructor(selector, params={}) {\n",
    "        this.selector = selector;\n",
    "        this.svg = d3.select(selector).append('svg');\n",
    "        this.chart = this.svg.append('g').classed('chart', true);\n",
    "        this.params = params; \n",
    "    }\n",
    "    newGroup(name) {\n",
    "        if (this[name]) { this[name].remove() }\n",
    "        this[name] = this.chart.append('g').classed(name, true);\n",
    "    }\n",
    "}\n",
    "class Bar extends Chart { ... }\n",
    "```"
   ]
  },
  {
   "cell_type": "markdown",
   "metadata": {
    "slideshow": {
     "slide_type": "slide"
    }
   },
   "source": [
    "# Separate Interaction \n",
    "\n",
    "* Add invisible clickable elements\n",
    "* You can make them bigger than your data\n",
    "    * Helpful for small elements\n",
    "    * Intuitive for user\n",
    "    * Don't need to worry (for the most part) about binding interactions to elements"
   ]
  },
  {
   "cell_type": "markdown",
   "metadata": {
    "slideshow": {
     "slide_type": "slide"
    }
   },
   "source": [
    "# Write with reuse in mind\n",
    "\n",
    "* Most charts share 75% of their code with something you've probably already done.\n",
    "* Use similar (preferably the same) data format for each method\n",
    "* Write generic methods that you can reuse\n",
    "\n",
    "```javascript\n",
    "class Bar extends Chart {\n",
    "...\n",
    "    drawBars(data) {\n",
    "        this.newGroup('bars');\n",
    "        this.bars\n",
    "            .selectAll('rect')\n",
    "            .data(data)\n",
    "            .enter()\n",
    "            .append('rect')\n",
    "            .attr('transform', d => `translate(${this.xScale(d.key)})`)\n",
    "            .attr('width', this.xScale.bandwidth())\n",
    "            .attr('height', d => this.yScale(d.value))\n",
    "            .attr('fill', d => d.properties.fill)....\n",
    "    }\n",
    "...\n",
    "}\n",
    "```"
   ]
  },
  {
   "cell_type": "markdown",
   "metadata": {
    "slideshow": {
     "slide_type": "slide"
    }
   },
   "source": [
    "# Takehome\n",
    "\n",
    "* Use classes\n",
    "* Separate interaction from drawing\n",
    "* Write with reuse in mind\n",
    "\n",
    "It's more work up front for each chart, but it will pay dividends."
   ]
  },
  {
   "cell_type": "markdown",
   "metadata": {
    "slideshow": {
     "slide_type": "slide"
    }
   },
   "source": [
    "# Questions?\n",
    "\n",
    "Buy me a beer, or bug me at\n",
    "* [dataleek.io](https://dataleek.io)\n",
    "* [@TheDataLeek](https://twitter.com/thedataleek)"
   ]
  },
  {
   "cell_type": "code",
   "execution_count": null,
   "metadata": {},
   "outputs": [],
   "source": []
  }
 ],
 "metadata": {
  "celltoolbar": "Slideshow",
  "kernelspec": {
   "display_name": "Python 3",
   "language": "python",
   "name": "python3"
  },
  "language_info": {
   "codemirror_mode": {
    "name": "ipython",
    "version": 3
   },
   "file_extension": ".py",
   "mimetype": "text/x-python",
   "name": "python",
   "nbconvert_exporter": "python",
   "pygments_lexer": "ipython3",
   "version": "3.6.4"
  }
 },
 "nbformat": 4,
 "nbformat_minor": 2
}
